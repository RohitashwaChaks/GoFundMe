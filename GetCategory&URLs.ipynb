{
 "cells": [
  {
   "cell_type": "markdown",
   "metadata": {},
   "source": [
    "-*- coding: utf-8 -*-\n",
    "\n",
    "\"\"\"\n",
    "\n",
    "Created on Thu Aug 23, 2020\n",
    "\n",
    "@author: Rohitashwa\n",
    "\n",
    "@Credits: loren ( https://github.com/jjeffus/gofundme)\n",
    "\n",
    "\"\"\""
   ]
  },
  {
   "cell_type": "code",
   "execution_count": null,
   "metadata": {},
   "outputs": [],
   "source": [
    "# !pip install selenium\n",
    "# !pip install bs4"
   ]
  },
  {
   "cell_type": "code",
   "execution_count": null,
   "metadata": {},
   "outputs": [],
   "source": [
    "from bs4 import BeautifulSoup\n",
    "from selenium import webdriver\n",
    "from time import sleep\n",
    "import numpy as np\n",
    "import pandas as pd\n",
    "import time"
   ]
  },
  {
   "cell_type": "markdown",
   "metadata": {},
   "source": [
    "## Scrape HomePage to identify all fundraiser wepage URLs\n",
    "\n",
    "**NOTE:**\n",
    "The following categories' webpage URLs do not follow the format specifies in the code:\n",
    "- Animals: \n",
    "    Url: ~animals-fundraiser~ -> animal-fundraiser\n",
    "    \n",
    "- NonProfits:\n",
    "    Url: ~nonprofits-fundraiser~ -> charity-fundraiser\n",
    "    \n",
    "**RESCRAPE:**\n",
    "The following categories need to be rescraped due to insufficient (<1,000) fundraiser count:\n",
    "- Business\n",
    "- Animals"
   ]
  },
  {
   "cell_type": "code",
   "execution_count": null,
   "metadata": {},
   "outputs": [],
   "source": [
    "url = 'https://www.gofundme.com/discover'\n",
    "driver = webdriver.Chrome('C:/Users/rohit/OneDrive/Desktop/IIMa/chromedriver_win32/chromedriver.exe')\n",
    "driver.get(url)"
   ]
  },
  {
   "cell_type": "code",
   "execution_count": null,
   "metadata": {},
   "outputs": [],
   "source": [
    "for elem in driver.find_elements_by_link_text('Show all categories'):\n",
    "        try:\n",
    "            elem.click()\n",
    "            print('Succesful click')\n",
    "        except:\n",
    "            print('Unsuccesful click')"
   ]
  },
  {
   "cell_type": "code",
   "execution_count": null,
   "metadata": {},
   "outputs": [],
   "source": [
    "source = driver.page_source\n",
    "\n",
    "driver.close()\n",
    "\n",
    "soup = BeautifulSoup(source, 'lxml')\n",
    "cat_containers = soup.findAll(\"div\", {\"class\": \"section-categories grid-x small-up-2 medium-up-3 large-up-6\"})\n",
    "categories = cat_containers[0].text #contains category names for this section\n",
    "categories = categories.splitlines()\n",
    "categories = list(filter(None, categories))"
   ]
  },
  {
   "cell_type": "code",
   "execution_count": null,
   "metadata": {},
   "outputs": [],
   "source": [
    "more_containers = soup.findAll(\"div\", {\"class\": \"section-categories grid-x small-up-2 medium-up-3 large-up-6 js-more-categories\"})\n",
    "more_cats = more_containers[0].text\n",
    "more_cats = more_cats.splitlines()\n",
    "more_cats = list(filter(None, more_cats))\n",
    "all_cats = categories + more_cats # should be len(all_cats) == 18\n",
    "# all_cats"
   ]
  },
  {
   "cell_type": "code",
   "execution_count": null,
   "metadata": {
    "scrolled": true
   },
   "outputs": [],
   "source": [
    "#make url_categories\n",
    "categories_urls = list(map(lambda x:{x:'https://www.gofundme.com/discover/{}-fundraiser'.format(x.lower())}, all_cats))\n",
    "categories_urls"
   ]
  },
  {
   "cell_type": "code",
   "execution_count": null,
   "metadata": {},
   "outputs": [],
   "source": [
    "# mydf = pd.read_csv('data/GFM_url_list.csv', sep = '\\t')\n",
    "# headers = [\"Url\", \"Category\",\"Position\", \"Title\", \"Location\", \"Organiser\",\"Amount_Raised\", \"Goal\", \"Duration\", \"Text\", \"Image\"]\n",
    "# mydf = mydf.reindex(columns = headers)\n",
    "# mydf.head()"
   ]
  },
  {
   "cell_type": "markdown",
   "metadata": {},
   "source": [
    "# Process to extract individual gofundme urls from an individual category"
   ]
  },
  {
   "cell_type": "code",
   "execution_count": null,
   "metadata": {},
   "outputs": [],
   "source": [
    "def extract_urls_from_categories(url, MoreGFMclicks = 5):\n",
    "    # eg. url = 'https://www.gofundme.com/discover/medical-fundraiser'\n",
    "    category = url.split(\"/\")[-1]\n",
    "    driver = webdriver.Chrome('C:/Users/rohit/OneDrive/Desktop/IIMa/chromedriver_win32/chromedriver.exe')\n",
    "    driver.get(url)\n",
    "    \n",
    "    for i in range(MoreGFMclicks):\n",
    "        if(len(driver.find_elements_by_link_text('Show More'))==0):\n",
    "            break\n",
    "        for elem in driver.find_elements_by_link_text('Show More'):\n",
    "            try:\n",
    "                elem.click()\n",
    "                print(category+' Succesful click %s' %(i+1))#make this more useful- say what category it is e.g. url.get_category()\n",
    "            except:\n",
    "                print(category+ ' Unsuccesful click %s' %(i+1))\n",
    "                \n",
    "            sleep(6) #longer delay - more succesful\n",
    "            # 5 seconds to ensure GFM doesn't ban us\n",
    "            \n",
    "    source = driver.page_source\n",
    "        \n",
    "    driver.close()\n",
    "    \n",
    "    soup = BeautifulSoup(source, 'lxml')\n",
    "    with open(\"data/webpages/sample1_\"+category+\".html\", \"w\", encoding='utf-8') as file:\n",
    "        file.write(str(soup))\n",
    "    \n",
    "    containers = soup.findAll(\"div\", {\"class\": \"cell grid-item small-6 medium-4 js-fund-tile\"})\n",
    "    print(\"Number of Fundraisers found:\"+str(len(containers)))\n",
    "    temp_url = {}\n",
    "    i = 1\n",
    "    \n",
    "    for container in containers:\n",
    "        for link in container.find_all('a'):\n",
    "            temp_url[link.get('href')] = i\n",
    "            i = i + 1 \n",
    "\n",
    "    temp_url = {k: ((v // 2) - 1) // 3  for k, v in temp_url.items()} #\n",
    "\n",
    "\n",
    "    return(temp_url)"
   ]
  },
  {
   "cell_type": "markdown",
   "metadata": {},
   "source": [
    "# Generate lists of list of URL per category"
   ]
  },
  {
   "cell_type": "code",
   "execution_count": null,
   "metadata": {},
   "outputs": [],
   "source": [
    "# Redo Animals & Business\n",
    "\n",
    "target_categories = [\n",
    "#     {'Medical': 'https://www.gofundme.com/discover/medical-fundraiser'}\n",
    "#     ,{'Memorial': 'https://www.gofundme.com/discover/memorial-fundraiser'}\n",
    "#     ,{'Emergency': 'https://www.gofundme.com/discover/emergency-fundraiser'}\n",
    "#     ,{'Nonprofit': 'https://www.gofundme.com/discover/charity-fundraiser'}\n",
    "#     ,{'Education': 'https://www.gofundme.com/discover/education-fundraiser'}\n",
    "    {'Animals': 'https://www.gofundme.com/discover/animal-fundraiser'}\n",
    "    ,{'Business': 'https://www.gofundme.com/discover/business-fundraiser'}\n",
    "#     ,{'Community': 'https://www.gofundme.com/discover/community-fundraiser'}\n",
    "#     ,{'Competition': 'https://www.gofundme.com/discover/competition-fundraiser'}\n",
    "#     ,{'Creative': 'https://www.gofundme.com/discover/creative-fundraiser'}\n",
    "#     ,{'Event': 'https://www.gofundme.com/discover/event-fundraiser'}\n",
    "#     ,{'Faith': 'https://www.gofundme.com/discover/faith-fundraiser'}\n",
    "#     ,{'Family': 'https://www.gofundme.com/discover/family-fundraiser'}\n",
    "#     ,{'Newlywed': 'https://www.gofundme.com/discover/newlywed-fundraiser'}\n",
    "#     ,{'Sports': 'https://www.gofundme.com/discover/sports-fundraiser'}\n",
    "#     ,{'Travel': 'https://www.gofundme.com/discover/travel-fundraiser'}\n",
    "#     ,{'Volunteer': 'https://www.gofundme.com/discover/volunteer-fundraiser'}\n",
    "#     ,{'Wishes': 'https://www.gofundme.com/discover/wishes-fundraiser'}\n",
    "]\n",
    "\n",
    "target_categories"
   ]
  },
  {
   "cell_type": "markdown",
   "metadata": {},
   "source": [
    "## Sequential Mode"
   ]
  },
  {
   "cell_type": "code",
   "execution_count": null,
   "metadata": {},
   "outputs": [],
   "source": [
    "def list_urls(categoryURLs, moreGFMclicks = 5):\n",
    "    GFM_urls = []\n",
    "    for url_pair in categoryURLs:\n",
    "        category = list(url_pair.keys())[0]\n",
    "        url = list(url_pair.values())[0]\n",
    "        print(\"Currently Scraping: \"+url)\n",
    "        GFM_urls.append([extract_urls_from_categories(url, MoreGFMclicks = moreGFMclicks), category])#get category from categories_urls\n",
    "    print(\"All done!\")\n",
    "    return(GFM_urls)\n",
    "\n",
    "\n",
    "GFM_Urls = list_urls(target_categories,0)\n",
    "GFM_Urls"
   ]
  },
  {
   "cell_type": "code",
   "execution_count": null,
   "metadata": {
    "scrolled": true
   },
   "outputs": [],
   "source": [
    "return_value = [(list_urlsV2((item,90))) for item in target_categories]\n",
    "\n",
    "# flatten list\n",
    "\n",
    "GFM_Urls_long = []\n",
    "for k in return_value:\n",
    "#     print(k[0][0])\n",
    "    GFM_Urls_long.extend(list(k[0][0]))\n",
    "\n",
    "mydf = {\n",
    "    \"Url\": GFM_Urls_long,\n",
    "    \"Category\": [\"Education\"]*len(GFM_Urls_long)\n",
    "}\n",
    "mydf = pd.DataFrame(_)"
   ]
  },
  {
   "cell_type": "markdown",
   "metadata": {},
   "source": [
    "## Multithreaded Mode"
   ]
  },
  {
   "cell_type": "code",
   "execution_count": null,
   "metadata": {},
   "outputs": [],
   "source": [
    "def list_urlsV2(params):\n",
    "    categoryURLs = params[0]\n",
    "    moreGFMclicks = params[1]\n",
    "    GFM_urls = []\n",
    "    for url_pair in categoryURLs:\n",
    "        category = url_pair\n",
    "        url = categoryURLs[url_pair]\n",
    "        print(\"Currently Scraping: \"+url)\n",
    "        t_init = time.time()\n",
    "        GFM_urls.append([extract_urls_from_categories(url, MoreGFMclicks = moreGFMclicks), category])#get category from categories_urls\n",
    "        t_fin = time.time() - t_init\n",
    "    print(\"All done for \"+category+\" category in \"+str(t_fin)+\"m-sec!\")\n",
    "    return(GFM_urls)"
   ]
  },
  {
   "cell_type": "code",
   "execution_count": null,
   "metadata": {
    "scrolled": true
   },
   "outputs": [],
   "source": [
    "import concurrent.futures\n",
    "\n",
    "t0= time.time()\n",
    "\n",
    "GFM_Urls_long = []\n",
    "\n",
    "with concurrent.futures.ThreadPoolExecutor(max_workers=20) as executor:\n",
    "    futures = [executor.submit(list_urlsV2, (item,90)) for item in target_categories]\n",
    "    return_value = [f.result() for f in futures]\n",
    "\n",
    "    rowCount = 1\n",
    "    for k in return_value:\n",
    "        print(k)\n",
    "        GFM_Urls_long.extend(k)\n",
    "#         rowCount = rowCount + batch_size\n",
    "\n",
    "t1= time.time() -t0\n",
    "print(\"Time-Elapsed total: \"+str(t1))\n",
    "print(len(GFM_Urls_long))\n",
    "# GFM_Urls_long"
   ]
  },
  {
   "cell_type": "code",
   "execution_count": null,
   "metadata": {},
   "outputs": [],
   "source": [
    "GFM_Urls_long"
   ]
  },
  {
   "cell_type": "code",
   "execution_count": null,
   "metadata": {},
   "outputs": [],
   "source": [
    "#flatten list\n",
    "mydf = pd.DataFrame(columns = [\"Url\", \"Category\",\"Position\"])\n",
    "for cat in GFM_Urls_long:\n",
    "    \n",
    "    temp_val = np.array(list(cat[0].values()))\n",
    "    temp_key = np.array(list(cat[0].keys()))\n",
    "    temp_category = np.repeat(cat[1], len(cat[0]))\n",
    "    \n",
    "    temp_df = pd.DataFrame(columns = [\"Url\", \"Category\", \"Position\"])\n",
    "    temp_df[\"Position\"] = temp_val\n",
    "    temp_df[\"Category\"] = temp_category\n",
    "    temp_df[\"Url\"] = temp_key\n",
    "    \n",
    "    mydf = mydf.append(temp_df, ignore_index = True)\n",
    "mydf"
   ]
  },
  {
   "cell_type": "markdown",
   "metadata": {},
   "source": [
    "## Save to file"
   ]
  },
  {
   "cell_type": "code",
   "execution_count": null,
   "metadata": {},
   "outputs": [],
   "source": [
    "fileName = 'data/GFM_url3_2k.csv'\n",
    "mydf.to_csv(fileName, sep='\\t')"
   ]
  },
  {
   "cell_type": "code",
   "execution_count": null,
   "metadata": {},
   "outputs": [],
   "source": [
    "pd.read_csv(fileName, sep='\\t')"
   ]
  },
  {
   "cell_type": "markdown",
   "metadata": {},
   "source": [
    "**NOTE:**\n",
    "The data is split over the following files:\n",
    "- data/GFM_url_7k.csv(Scraped; uploaded)\n",
    "- data/GFM_url2_3k.csv\n",
    "- data/GFM_url3_2k.csv"
   ]
  },
  {
   "cell_type": "markdown",
   "metadata": {},
   "source": [
    "## Combining all CSVs "
   ]
  },
  {
   "cell_type": "code",
   "execution_count": null,
   "metadata": {},
   "outputs": [],
   "source": [
    "# import pandas as pd\n",
    "# import numpy as np"
   ]
  },
  {
   "cell_type": "code",
   "execution_count": null,
   "metadata": {},
   "outputs": [],
   "source": [
    "# fileList = [\n",
    "#     \"data/GFM_url_business_1k.csv\",\n",
    "#     \"data/GFM_url_emergency_1k.csv\",\n",
    "#     \"data/GFM_url_medical_1k.csv\",\n",
    "#     \"data/GFM_url_memorialEducation_1k.csv\",\n",
    "#     'data/GFM_url_volunteer_1k.csv',\n",
    "#     \"data/GFM_url_competition_1k.csv\"\n",
    "# ]"
   ]
  },
  {
   "cell_type": "code",
   "execution_count": null,
   "metadata": {},
   "outputs": [],
   "source": [
    "# final = pd.DataFrame()\n",
    "# for item in fileList:\n",
    "#     x = pd.read_csv(item,sep = '\\t')\n",
    "#     print(len(x))\n",
    "#     final = pd.concat([final,x], ignore_index = True)\n",
    "    \n",
    "# final.drop(['Unnamed: 0'],axis = 1, inplace = True)\n",
    "# final.tail()"
   ]
  },
  {
   "cell_type": "code",
   "execution_count": null,
   "metadata": {},
   "outputs": [],
   "source": [
    "# final.to_csv('data/GFM_url_compiled.csv', sep='\\t', index = False)"
   ]
  },
  {
   "cell_type": "code",
   "execution_count": null,
   "metadata": {},
   "outputs": [],
   "source": [
    "# pd.read_csv('data/GFM_url_compiled.csv', sep='\\t')"
   ]
  }
 ],
 "metadata": {
  "kernelspec": {
   "display_name": "Python 3",
   "language": "python",
   "name": "python3"
  },
  "language_info": {
   "codemirror_mode": {
    "name": "ipython",
    "version": 3
   },
   "file_extension": ".py",
   "mimetype": "text/x-python",
   "name": "python",
   "nbconvert_exporter": "python",
   "pygments_lexer": "ipython3",
   "version": "3.8.3"
  }
 },
 "nbformat": 4,
 "nbformat_minor": 4
}
