{
 "cells": [
  {
   "cell_type": "code",
   "execution_count": 1,
   "metadata": {},
   "outputs": [],
   "source": [
    "#  !pip install pymongo"
   ]
  },
  {
   "cell_type": "code",
   "execution_count": 6,
   "metadata": {},
   "outputs": [],
   "source": [
    "import multiprocessing\n",
    "from pymongo import MongoClient\n",
    "from functools import partial\n",
    "from itertools import chain\n",
    "import time\n",
    "import concurrent.futures"
   ]
  },
  {
   "cell_type": "code",
   "execution_count": 7,
   "metadata": {},
   "outputs": [
    {
     "name": "stderr",
     "output_type": "stream",
     "text": [
      "ERROR:root:File `'./ScrapeUtils.ipynb.py'` not found.\n"
     ]
    },
    {
     "name": "stdout",
     "output_type": "stream",
     "text": [
      "Stored 'headers' (list)\n"
     ]
    },
    {
     "data": {
      "text/plain": [
       "'GFM_url_list_12_27_20'"
      ]
     },
     "execution_count": 7,
     "metadata": {},
     "output_type": "execute_result"
    }
   ],
   "source": [
    "%run ./../Utilities/ScrapeUtils.ipynb\n",
    "%run ./../Utilities/DBUtils.ipynb\n",
    "\n",
    "%store -r databaseName\n",
    "databaseName"
   ]
  },
  {
   "cell_type": "code",
   "execution_count": 8,
   "metadata": {},
   "outputs": [],
   "source": [
    "client = MongoClient('mongodb://localhost:27017')\n",
    "dbGFM = client.GFM[databaseName]\n",
    "# dbGFM"
   ]
  },
  {
   "cell_type": "code",
   "execution_count": 5,
   "metadata": {},
   "outputs": [],
   "source": [
    "#Distribute regions for the multiple threads\n",
    "def BatchGenerator(l, n):\n",
    "    tid = 0\n",
    "    for i in range(0, len(l), n):\n",
    "        tid = tid + 1\n",
    "        yield (l[i:i + n], 'Thread_'+str(tid))\n",
    "\n",
    "batch_size = 5000\n",
    "        \n",
    "# for item in BatchGenerator(docid, 50):\n",
    "#     print(len(item[0]),item[1])"
   ]
  },
  {
   "cell_type": "markdown",
   "metadata": {},
   "source": [
    "## Scrape Individual URLs"
   ]
  },
  {
   "cell_type": "code",
   "execution_count": null,
   "metadata": {},
   "outputs": [],
   "source": [
    "docid = dbGFM.find({\"Title\":{\"$exists\":False}}).distinct('_id')\n",
    "len(docid)"
   ]
  },
  {
   "cell_type": "code",
   "execution_count": null,
   "metadata": {
    "scrolled": true
   },
   "outputs": [],
   "source": [
    "batch_size = 50\n",
    "\n",
    "t0= time.time()\n",
    "\n",
    "with tqdm(total=len(docid)) as pbar:\n",
    "    with concurrent.futures.ThreadPoolExecutor(max_workers=3) as executor:\n",
    "        futures = [executor.submit(scrape_chunks, param, pbar) for param in BatchGenerator(docid, batch_size)]\n",
    "        return_value = [f.result() for f in futures]\n",
    "\n",
    "t1= time.time() -t0\n",
    "print(\"\\nTime-Elapsed total: {0} s\".format(str(t1)))"
   ]
  },
  {
   "cell_type": "markdown",
   "metadata": {},
   "source": [
    "## Edit Pre-Scraped Data"
   ]
  },
  {
   "cell_type": "code",
   "execution_count": null,
   "metadata": {},
   "outputs": [],
   "source": [
    "docid = dbGFM.find({\"Duration\":{\"$exists\":False}}).distinct('_id')\n",
    "len(docid)"
   ]
  },
  {
   "cell_type": "code",
   "execution_count": null,
   "metadata": {},
   "outputs": [],
   "source": [
    "t0= time.time()\n",
    "with tqdm(total=len(docid)) as pbar:\n",
    "    with concurrent.futures.ThreadPoolExecutor(max_workers=3) as executor:\n",
    "        futures = [executor.submit(updateDuration, param, pbar) for param in BatchGenerator(docid, batch_size)]\n",
    "        return_value = [f.result() for f in futures]\n",
    "\n",
    "t1= time.time() -t0\n",
    "print(\"\\nTime-Elapsed total: {0} s\".format(str(t1)))"
   ]
  },
  {
   "cell_type": "markdown",
   "metadata": {},
   "source": [
    "## Split into 3 DataBases"
   ]
  },
  {
   "cell_type": "code",
   "execution_count": 6,
   "metadata": {},
   "outputs": [
    {
     "data": {
      "text/plain": [
       "18000"
      ]
     },
     "execution_count": 6,
     "metadata": {},
     "output_type": "execute_result"
    }
   ],
   "source": [
    "docid = dbGFM.find({}).distinct('_id')\n",
    "len(docid)"
   ]
  },
  {
   "cell_type": "code",
   "execution_count": 10,
   "metadata": {
    "scrolled": true
   },
   "outputs": [
    {
     "name": "stderr",
     "output_type": "stream",
     "text": [
      "100%|████████████████████████████████████████████████████████████████████████████| 18000/18000 [25:48<00:00, 11.62it/s]"
     ]
    },
    {
     "name": "stdout",
     "output_type": "stream",
     "text": [
      "\n",
      "Time-Elapsed total: 1549.0106663703918 s\n"
     ]
    },
    {
     "name": "stderr",
     "output_type": "stream",
     "text": [
      "\n"
     ]
    }
   ],
   "source": [
    "t0= time.time()\n",
    "with tqdm(total=len(docid)) as pbar:\n",
    "    with concurrent.futures.ThreadPoolExecutor(max_workers=2) as executor:\n",
    "        futures = [executor.submit(splitDB, param, pbar) for param in BatchGenerator(docid, batch_size)]\n",
    "        return_value = [f.result() for f in futures]\n",
    "\n",
    "t1= time.time() -t0\n",
    "print(\"\\nTime-Elapsed total: {0} s\".format(str(t1)))"
   ]
  },
  {
   "cell_type": "code",
   "execution_count": 12,
   "metadata": {},
   "outputs": [
    {
     "data": {
      "text/plain": [
       "[{ObjectId('5fe88bbbb52b69fadc3d0e0e'): 'E11000 duplicate key error collection: GFM.Img_12_27_20 index: _id_ dup key: { _id: ObjectId(\\'5fe88bbbb52b69fadc3d0e0e\\') }, full error: {\\'index\\': 0, \\'code\\': 11000, \\'keyPattern\\': {\\'_id\\': 1}, \\'keyValue\\': {\\'_id\\': ObjectId(\\'5fe88bbbb52b69fadc3d0e0e\\')}, \\'errmsg\\': \"E11000 duplicate key error collection: GFM.Img_12_27_20 index: _id_ dup key: { _id: ObjectId(\\'5fe88bbbb52b69fadc3d0e0e\\') }\"}'}]"
      ]
     },
     "execution_count": 12,
     "metadata": {},
     "output_type": "execute_result"
    }
   ],
   "source": [
    "return_value[0]"
   ]
  },
  {
   "cell_type": "markdown",
   "metadata": {},
   "source": [
    "## Edit Data Table"
   ]
  },
  {
   "cell_type": "code",
   "execution_count": 10,
   "metadata": {},
   "outputs": [
    {
     "data": {
      "text/plain": [
       "'12_27_20'"
      ]
     },
     "execution_count": 10,
     "metadata": {},
     "output_type": "execute_result"
    }
   ],
   "source": [
    "dbdate = '_'.join(databaseName.split(\"_\")[3:])\n",
    "dbdate"
   ]
  },
  {
   "cell_type": "code",
   "execution_count": 11,
   "metadata": {},
   "outputs": [],
   "source": [
    "dbHTML = client.GFM[\"HTML_\"+dbdate]\n",
    "dbData = client.GFM[\"Data_\"+dbdate]"
   ]
  },
  {
   "cell_type": "code",
   "execution_count": 13,
   "metadata": {},
   "outputs": [
    {
     "data": {
      "text/plain": [
       "17496"
      ]
     },
     "execution_count": 13,
     "metadata": {},
     "output_type": "execute_result"
    }
   ],
   "source": [
    "docid = dbData.find({\"Duration\":{\"$exists\":False},\"Status\":\"Active\"}).distinct(\"_id\")\n",
    "len(docid)"
   ]
  },
  {
   "cell_type": "code",
   "execution_count": null,
   "metadata": {},
   "outputs": [],
   "source": [
    "t0= time.time()\n",
    "with tqdm(total=len(docid)) as pbar:\n",
    "    with concurrent.futures.ThreadPoolExecutor(max_workers=2) as executor:\n",
    "        futures = [executor.submit(updateDurationv2, param, pbar) for param in BatchGenerator(docid, batch_size)]\n",
    "        return_value = [f.result() for f in futures]\n",
    "\n",
    "t1= time.time() -t0\n",
    "print(\"\\nTime-Elapsed total: {0} s\".format(str(t1)))"
   ]
  },
  {
   "cell_type": "code",
   "execution_count": null,
   "metadata": {},
   "outputs": [],
   "source": [
    "failedRequest = fetchFailedScrapes()\n",
    "# %store failedRequest"
   ]
  },
  {
   "cell_type": "code",
   "execution_count": null,
   "metadata": {},
   "outputs": [],
   "source": [
    "len(failedRequest)"
   ]
  },
  {
   "cell_type": "code",
   "execution_count": null,
   "metadata": {},
   "outputs": [],
   "source": []
  }
 ],
 "metadata": {
  "kernelspec": {
   "display_name": "Python 3",
   "language": "python",
   "name": "python3"
  },
  "language_info": {
   "codemirror_mode": {
    "name": "ipython",
    "version": 3
   },
   "file_extension": ".py",
   "mimetype": "text/x-python",
   "name": "python",
   "nbconvert_exporter": "python",
   "pygments_lexer": "ipython3",
   "version": "3.8.3"
  }
 },
 "nbformat": 4,
 "nbformat_minor": 4
}
