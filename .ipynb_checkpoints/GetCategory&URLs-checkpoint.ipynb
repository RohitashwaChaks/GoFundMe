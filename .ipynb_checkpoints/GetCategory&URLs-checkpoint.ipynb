{
 "cells": [
  {
   "cell_type": "markdown",
   "metadata": {},
   "source": [
    "-*- coding: utf-8 -*-\n",
    "\n",
    "**Created on Thu Aug 23, 2020**\n",
    "\n",
    "**@author:** Rohitashwa\n",
    "\n",
    "**@Credits:** loren ( https://github.com/jjeffus/gofundme)"
   ]
  },
  {
   "cell_type": "markdown",
   "metadata": {},
   "source": [
    "# Initialise"
   ]
  },
  {
   "cell_type": "code",
   "execution_count": 13,
   "metadata": {},
   "outputs": [],
   "source": [
    "import numpy as np\n",
    "import pandas as pd\n",
    "import time\n",
    "import datetime"
   ]
  },
  {
   "cell_type": "code",
   "execution_count": 5,
   "metadata": {},
   "outputs": [
    {
     "name": "stdout",
     "output_type": "stream",
     "text": [
      "no stored variable or alias databaseName\n"
     ]
    }
   ],
   "source": [
    "%store -z"
   ]
  },
  {
   "cell_type": "code",
   "execution_count": 14,
   "metadata": {},
   "outputs": [
    {
     "name": "stdout",
     "output_type": "stream",
     "text": [
      "Stored 'headers' (list)\n"
     ]
    }
   ],
   "source": [
    "%run ./Utilities/ScrapeUtils.ipynb"
   ]
  },
  {
   "cell_type": "markdown",
   "metadata": {},
   "source": [
    "## Scrape HomePage to identify all fundraiser wepage URLs\n",
    "\n",
    "**NOTE:**\n",
    "The following categories' webpage URLs do not follow the format specifies in the code:\n",
    "- Animals: \n",
    "    Url: ~animals-fundraiser~ -> animal-fundraiser\n",
    "    \n",
    "- NonProfits:\n",
    "    Url: ~nonprofits-fundraiser~ -> charity-fundraiser\n",
    "    \n",
    "**RESCRAPE:**\n",
    "The following categories need to be rescraped due to insufficient (<1,000) fundraiser count:"
   ]
  },
  {
   "cell_type": "code",
   "execution_count": 15,
   "metadata": {},
   "outputs": [],
   "source": [
    "all_cats = fetch_category_URLs()\n",
    "\n",
    "all_cats.remove('Nonprofit')\n",
    "all_cats.remove('Animals')\n",
    "all_cats.extend(['Charity','Animal'])\n",
    "# all_cats"
   ]
  },
  {
   "cell_type": "code",
   "execution_count": 16,
   "metadata": {
    "scrolled": true
   },
   "outputs": [
    {
     "data": {
      "text/plain": [
       "[{'Medical': 'https://www.gofundme.com/discover/medical-fundraiser'},\n",
       " {'Memorial': 'https://www.gofundme.com/discover/memorial-fundraiser'},\n",
       " {'Emergency': 'https://www.gofundme.com/discover/emergency-fundraiser'},\n",
       " {'Education': 'https://www.gofundme.com/discover/education-fundraiser'},\n",
       " {'Environment': 'https://www.gofundme.com/discover/environment-fundraiser'},\n",
       " {'Business': 'https://www.gofundme.com/discover/business-fundraiser'},\n",
       " {'Community': 'https://www.gofundme.com/discover/community-fundraiser'},\n",
       " {'Competition': 'https://www.gofundme.com/discover/competition-fundraiser'},\n",
       " {'Creative': 'https://www.gofundme.com/discover/creative-fundraiser'},\n",
       " {'Event': 'https://www.gofundme.com/discover/event-fundraiser'},\n",
       " {'Faith': 'https://www.gofundme.com/discover/faith-fundraiser'},\n",
       " {'Family': 'https://www.gofundme.com/discover/family-fundraiser'},\n",
       " {'Sports': 'https://www.gofundme.com/discover/sports-fundraiser'},\n",
       " {'Travel': 'https://www.gofundme.com/discover/travel-fundraiser'},\n",
       " {'Volunteer': 'https://www.gofundme.com/discover/volunteer-fundraiser'},\n",
       " {'Wishes': 'https://www.gofundme.com/discover/wishes-fundraiser'},\n",
       " {'Charity': 'https://www.gofundme.com/discover/charity-fundraiser'},\n",
       " {'Animal': 'https://www.gofundme.com/discover/animal-fundraiser'}]"
      ]
     },
     "execution_count": 16,
     "metadata": {},
     "output_type": "execute_result"
    }
   ],
   "source": [
    "#make url_categories\n",
    "categories_urls = list(map(lambda x:{x:'https://www.gofundme.com/discover/{}-fundraiser'.format(x.lower())}, all_cats))\n",
    "categories_urls"
   ]
  },
  {
   "cell_type": "markdown",
   "metadata": {},
   "source": [
    "## Fetch All Fundraiser URLs from category homepage"
   ]
  },
  {
   "cell_type": "code",
   "execution_count": 17,
   "metadata": {},
   "outputs": [],
   "source": [
    "def list_urls(params):\n",
    "    print(params)\n",
    "    categoryURLs = params[0]\n",
    "    moreGFMclicks = params[1]\n",
    "    GFM_urls = []\n",
    "    for url_pair in categoryURLs:\n",
    "        category = url_pair\n",
    "        url = categoryURLs[url_pair]\n",
    "        print(\"Currently Scraping: \"+url)\n",
    "        t_init = time.time()\n",
    "        GFM_urls.append([extract_urls_from_categories(url, MoreGFMclicks = moreGFMclicks), category])#get category from categories_urls\n",
    "        t_fin = time.time() - t_init\n",
    "    print(\"All done for \"+category+\" category in \"+str(t_fin)+\" m-sec!\\n\")\n",
    "    return(GFM_urls)"
   ]
  },
  {
   "cell_type": "markdown",
   "metadata": {},
   "source": [
    "## Sequential Mode"
   ]
  },
  {
   "cell_type": "code",
   "execution_count": 18,
   "metadata": {
    "scrolled": true
   },
   "outputs": [],
   "source": [
    "# #set number of click limit (max 90)\n",
    "# clickLimit = 0\n",
    "# return_value = [(list_urls((item,clickLimit))) for item in categories_urls]\n",
    "\n",
    "# # flatten list\n",
    "\n",
    "# GFM_Urls_long = []\n",
    "# for k in return_value:\n",
    "#         GFM_Urls_long.extend(k)"
   ]
  },
  {
   "cell_type": "markdown",
   "metadata": {},
   "source": [
    "## Multithreaded Mode"
   ]
  },
  {
   "cell_type": "code",
   "execution_count": 19,
   "metadata": {},
   "outputs": [
    {
     "name": "stdout",
     "output_type": "stream",
     "text": [
      "({'Medical': 'https://www.gofundme.com/discover/medical-fundraiser'}, 2)\n",
      "Currently Scraping: https://www.gofundme.com/discover/medical-fundraiser\n",
      "({'Memorial': 'https://www.gofundme.com/discover/memorial-fundraiser'}, 2)\n",
      "Currently Scraping: https://www.gofundme.com/discover/memorial-fundraiser\n",
      "({'Emergency': 'https://www.gofundme.com/discover/emergency-fundraiser'}, 2)\n",
      "({'Education': 'https://www.gofundme.com/discover/education-fundraiser'}, 2)\n",
      "Currently Scraping: https://www.gofundme.com/discover/education-fundraiser\n",
      "Currently Scraping: https://www.gofundme.com/discover/emergency-fundraiser({'Environment': 'https://www.gofundme.com/discover/environment-fundraiser'}, 2)\n",
      "Currently Scraping: https://www.gofundme.com/discover/environment-fundraiser\n",
      "\n",
      "({'Business': 'https://www.gofundme.com/discover/business-fundraiser'}, 2)\n",
      "Currently Scraping: https://www.gofundme.com/discover/business-fundraiser\n",
      "({'Community': 'https://www.gofundme.com/discover/community-fundraiser'}, 2)\n",
      "Currently Scraping: https://www.gofundme.com/discover/community-fundraiser\n",
      "({'Competition': 'https://www.gofundme.com/discover/competition-fundraiser'}, 2)\n",
      "Currently Scraping: https://www.gofundme.com/discover/competition-fundraiser\n",
      "({'Creative': 'https://www.gofundme.com/discover/creative-fundraiser'}, 2)\n",
      "Currently Scraping: https://www.gofundme.com/discover/creative-fundraiser({'Event': 'https://www.gofundme.com/discover/event-fundraiser'}, 2)\n",
      "Currently Scraping: https://www.gofundme.com/discover/event-fundraiser\n",
      "\n",
      "({'Faith': 'https://www.gofundme.com/discover/faith-fundraiser'}, 2)\n",
      "Currently Scraping: https://www.gofundme.com/discover/faith-fundraiser\n",
      "({'Family': 'https://www.gofundme.com/discover/family-fundraiser'}, 2)\n",
      "Currently Scraping: https://www.gofundme.com/discover/family-fundraiser({'Sports': 'https://www.gofundme.com/discover/sports-fundraiser'}, 2)\n",
      "\n",
      "Currently Scraping: https://www.gofundme.com/discover/sports-fundraiser\n",
      "({'Travel': 'https://www.gofundme.com/discover/travel-fundraiser'}, 2)\n",
      "Currently Scraping: https://www.gofundme.com/discover/travel-fundraiser\n",
      "({'Volunteer': 'https://www.gofundme.com/discover/volunteer-fundraiser'}, 2)\n",
      "Currently Scraping: https://www.gofundme.com/discover/volunteer-fundraiser\n",
      "({'Wishes': 'https://www.gofundme.com/discover/wishes-fundraiser'}, 2)\n",
      "Currently Scraping: https://www.gofundme.com/discover/wishes-fundraiser\n",
      "({'Charity': 'https://www.gofundme.com/discover/charity-fundraiser'}, 2)\n",
      "Currently Scraping: https://www.gofundme.com/discover/charity-fundraiser\n",
      "({'Animal': 'https://www.gofundme.com/discover/animal-fundraiser'}, 2)\n",
      "Currently Scraping: https://www.gofundme.com/discover/animal-fundraiser\n",
      "environment-fundraiser: Succesful click 1\n",
      "event-fundraiser: Succesful click 1\n",
      "business-fundraiser: Succesful click 1\n",
      "emergency-fundraiser: Succesful click 1\n",
      "Number of Fundraisers found:0\n",
      "All done for Travel category in 160.03889775276184 m-sec!\n",
      "\n",
      "Number of Fundraisers found:12\n",
      "All done for Environment category in 189.8497121334076 m-sec!\n",
      "\n",
      "memorial-fundraiser: Succesful click 1\n",
      "faith-fundraiser: Succesful click 1\n",
      "sports-fundraiser: Succesful click 1\n",
      "animal-fundraiser: Succesful click 1\n",
      "education-fundraiser: Succesful click 1\n",
      "Number of Fundraisers found:12\n",
      "All done for Event category in 206.83712363243103 m-sec!\n",
      "\n",
      "Number of Fundraisers found:12\n",
      "All done for Business category in 212.567467212677 m-sec!\n",
      "\n",
      "wishes-fundraiser: Succesful click 1\n",
      "volunteer-fundraiser: Succesful click 1\n",
      "Number of Fundraisers found:12\n",
      "All done for Emergency category in 224.3139247894287 m-sec!\n",
      "\n",
      "medical-fundraiser: Succesful click 1\n",
      "competition-fundraiser: Succesful click 1\n",
      "charity-fundraiser: Succesful click 1\n",
      "family-fundraiser: Succesful click 1\n",
      "creative-fundraiser: Succesful click 1\n",
      "community-fundraiser: Succesful click 1\n",
      "creative-fundraiser: Succesful click 2\n",
      "Number of Fundraisers found:12\n",
      "All done for Volunteer category in 247.59132766723633 m-sec!\n",
      "\n",
      "Number of Fundraisers found:24\n",
      "All done for Animal category in 248.75887441635132 m-sec!\n",
      "\n",
      "Number of Fundraisers found:12\n",
      "All done for Competition category in 249.5127100944519 m-sec!\n",
      "Number of Fundraisers found:12\n",
      "\n",
      "All done for Charity category in 249.45526337623596 m-sec!\n",
      "\n",
      "Number of Fundraisers found:12\n",
      "All done for Sports category in 249.7840747833252 m-sec!\n",
      "\n",
      "Number of Fundraisers found:24\n",
      "All done for Memorial category in 250.05942106246948 m-sec!\n",
      "\n",
      "Number of Fundraisers found:12\n",
      "All done for Medical category in 250.29228568077087 m-sec!\n",
      "\n",
      "Number of Fundraisers found:12\n",
      "All done for Wishes category in 250.47368121147156 m-sec!\n",
      "\n",
      "Number of Fundraisers found:12\n",
      "All done for Family category in 250.69356513023376 m-sec!\n",
      "\n",
      "Number of Fundraisers found:24\n",
      "All done for Education category in 250.86596941947937 m-sec!\n",
      "\n",
      "Number of Fundraisers found:24\n",
      "All done for Community category in 251.03687262535095 m-sec!\n",
      "\n",
      "Number of Fundraisers found:36\n",
      "All done for Creative category in 251.5225944519043 m-sec!\n",
      "\n",
      "Number of Fundraisers found:12\n",
      "All done for Faith category in 258.27968287467957 m-sec!\n",
      "\n",
      "\n",
      "Time-Elapsed total: 258.3306713104248\n",
      "18\n"
     ]
    }
   ],
   "source": [
    "import concurrent.futures\n",
    "\n",
    "#set number of click limit (max 90)\n",
    "clickLimit = 2\n",
    "GFM_Urls_long = []\n",
    "\n",
    "t0= time.time()\n",
    "with concurrent.futures.ThreadPoolExecutor(max_workers=20) as executor:\n",
    "    futures = [executor.submit(list_urls, (item,clickLimit)) for item in categories_urls]\n",
    "    return_value = [f.result() for f in futures]\n",
    "\n",
    "    rowCount = 1\n",
    "    for k in return_value:\n",
    "        GFM_Urls_long.extend(k)\n",
    "#         rowCount = rowCount + batch_size\n",
    "\n",
    "t1= time.time() -t0\n",
    "print(\"\\nTime-Elapsed total: \"+str(t1))\n",
    "print(len(GFM_Urls_long))\n",
    "# GFM_Urls_long"
   ]
  },
  {
   "cell_type": "markdown",
   "metadata": {},
   "source": [
    "## Flatten Result List"
   ]
  },
  {
   "cell_type": "code",
   "execution_count": 20,
   "metadata": {
    "scrolled": true
   },
   "outputs": [],
   "source": [
    "# GFM_Urls_long"
   ]
  },
  {
   "cell_type": "code",
   "execution_count": 21,
   "metadata": {},
   "outputs": [
    {
     "data": {
      "text/plain": [
       "Creative       36\n",
       "Community      24\n",
       "Memorial       24\n",
       "Animal         24\n",
       "Education      24\n",
       "Event          12\n",
       "Sports         12\n",
       "Business       12\n",
       "Wishes         12\n",
       "Medical        12\n",
       "Faith          12\n",
       "Environment    12\n",
       "Family         12\n",
       "Charity        12\n",
       "Volunteer      12\n",
       "Emergency      12\n",
       "Competition    12\n",
       "Name: Category, dtype: int64"
      ]
     },
     "execution_count": 21,
     "metadata": {},
     "output_type": "execute_result"
    }
   ],
   "source": [
    "mydf = pd.DataFrame(columns = [\"Url\", \"Category\",\"Position\"])\n",
    "for cat in GFM_Urls_long:\n",
    "    \n",
    "    temp_val = np.array(list(cat[0].values()))\n",
    "    temp_key = np.array(list(cat[0].keys()))\n",
    "    temp_category = np.repeat(cat[1], len(cat[0]))\n",
    "    \n",
    "    temp_df = pd.DataFrame(columns = [\"Url\", \"Category\", \"Position\"])\n",
    "    temp_df[\"Position\"] = temp_val\n",
    "    temp_df[\"Category\"] = temp_category\n",
    "    temp_df[\"Url\"] = temp_key\n",
    "    \n",
    "    mydf = mydf.append(temp_df, ignore_index = True)\n",
    "mydf.Category.value_counts()"
   ]
  },
  {
   "cell_type": "markdown",
   "metadata": {},
   "source": [
    "## Save to Mongo"
   ]
  },
  {
   "cell_type": "code",
   "execution_count": 25,
   "metadata": {},
   "outputs": [
    {
     "name": "stdout",
     "output_type": "stream",
     "text": [
      "Stored 'databaseName' (str)\n"
     ]
    }
   ],
   "source": [
    "from pymongo import MongoClient\n",
    "import json\n",
    "\n",
    "databaseName = \"GFM_url_list_{0}\".format(datetime.datetime.now().strftime(\"%x\").replace(\"/\",\"_\"))\n",
    "\n",
    "client = MongoClient('mongodb://localhost:27017')\n",
    "table = client.GFM[databaseName]\n",
    "\n",
    "%store databaseName"
   ]
  },
  {
   "cell_type": "code",
   "execution_count": 26,
   "metadata": {},
   "outputs": [
    {
     "name": "stdout",
     "output_type": "stream",
     "text": [
      "Inserting: 0\n",
      "Inserting: 1\n",
      "Inserting: 2\n",
      "Inserting: 3\n",
      "Inserting: 4\n",
      "Inserting: 5\n",
      "Inserting: 6\n",
      "Inserting: 7\n",
      "Inserting: 8\n",
      "Inserting: 9\n",
      "Inserting: 10\n",
      "Inserting: 11\n",
      "Inserting: 12\n",
      "Inserting: 13\n",
      "Inserting: 14\n",
      "Inserting: 15\n",
      "Inserting: 16\n",
      "Inserting: 17\n",
      "Inserting: 18\n",
      "Inserting: 19\n",
      "Inserting: 20\n",
      "Inserting: 21\n",
      "Inserting: 22\n",
      "Inserting: 23\n",
      "Inserting: 24\n",
      "Inserting: 25\n",
      "Inserting: 26\n",
      "Inserting: 27\n",
      "Inserting: 28\n",
      "Inserting: 29\n",
      "Inserting: 30\n",
      "Inserting: 31\n",
      "Inserting: 32\n",
      "Inserting: 33\n",
      "Inserting: 34\n",
      "Inserting: 35\n",
      "Inserting: 36\n",
      "Inserting: 37\n",
      "Inserting: 38\n",
      "Inserting: 39\n",
      "Inserting: 40\n",
      "Inserting: 41\n",
      "Inserting: 42\n",
      "Inserting: 43\n",
      "Inserting: 44\n",
      "Inserting: 45\n",
      "Inserting: 46\n",
      "Inserting: 47\n",
      "Inserting: 48\n",
      "Inserting: 49\n",
      "Inserting: 50\n",
      "Inserting: 51\n",
      "Inserting: 52\n",
      "Inserting: 53\n",
      "Inserting: 54\n",
      "Inserting: 55\n",
      "Inserting: 56\n",
      "Inserting: 57\n",
      "Inserting: 58\n",
      "Inserting: 59\n",
      "Inserting: 60\n",
      "Inserting: 61\n",
      "Inserting: 62\n",
      "Inserting: 63\n",
      "Inserting: 64\n",
      "Inserting: 65\n",
      "Inserting: 66\n",
      "Inserting: 67\n",
      "Inserting: 68\n",
      "Inserting: 69\n",
      "Inserting: 70\n",
      "Inserting: 71\n",
      "Inserting: 72\n",
      "Inserting: 73\n",
      "Inserting: 74\n",
      "Inserting: 75\n",
      "Inserting: 76\n",
      "Inserting: 77\n",
      "Inserting: 78\n",
      "Inserting: 79\n",
      "Inserting: 80\n",
      "Inserting: 81\n",
      "Inserting: 82\n",
      "Inserting: 83\n",
      "Inserting: 84\n",
      "Inserting: 85\n",
      "Inserting: 86\n",
      "Inserting: 87\n",
      "Inserting: 88\n",
      "Inserting: 89\n",
      "Inserting: 90\n",
      "Inserting: 91\n",
      "Inserting: 92\n",
      "Inserting: 93\n",
      "Inserting: 94\n",
      "Inserting: 95\n",
      "Inserting: 96\n",
      "Inserting: 97\n",
      "Inserting: 98\n",
      "Inserting: 99\n",
      "Inserting: 100\n",
      "Inserting: 101\n",
      "Inserting: 102\n",
      "Inserting: 103\n",
      "Inserting: 104\n",
      "Inserting: 105\n",
      "Inserting: 106\n",
      "Inserting: 107\n",
      "Inserting: 108\n",
      "Inserting: 109\n",
      "Inserting: 110\n",
      "Inserting: 111\n",
      "Inserting: 112\n",
      "Inserting: 113\n",
      "Inserting: 114\n",
      "Inserting: 115\n",
      "Inserting: 116\n",
      "Inserting: 117\n",
      "Inserting: 118\n",
      "Inserting: 119\n",
      "Inserting: 120\n",
      "Inserting: 121\n",
      "Inserting: 122\n",
      "Inserting: 123\n",
      "Inserting: 124\n",
      "Inserting: 125\n",
      "Inserting: 126\n",
      "Inserting: 127\n",
      "Inserting: 128\n",
      "Inserting: 129\n",
      "Inserting: 130\n",
      "Inserting: 131\n",
      "Inserting: 132\n",
      "Inserting: 133\n",
      "Inserting: 134\n",
      "Inserting: 135\n",
      "Inserting: 136\n",
      "Inserting: 137\n",
      "Inserting: 138\n",
      "Inserting: 139\n",
      "Inserting: 140\n",
      "Inserting: 141\n",
      "Inserting: 142\n",
      "Inserting: 143\n",
      "Inserting: 144\n",
      "Inserting: 145\n",
      "Inserting: 146\n",
      "Inserting: 147\n",
      "Inserting: 148\n",
      "Inserting: 149\n",
      "Inserting: 150\n",
      "Inserting: 151\n",
      "Inserting: 152\n",
      "Inserting: 153\n",
      "Inserting: 154\n",
      "Inserting: 155\n",
      "Inserting: 156\n",
      "Inserting: 157\n",
      "Inserting: 158\n",
      "Inserting: 159\n",
      "Inserting: 160\n",
      "Inserting: 161\n",
      "Inserting: 162\n",
      "Inserting: 163\n",
      "Inserting: 164\n",
      "Inserting: 165\n",
      "Inserting: 166\n",
      "Inserting: 167\n",
      "Inserting: 168\n",
      "Inserting: 169\n",
      "Inserting: 170\n",
      "Inserting: 171\n",
      "Inserting: 172\n",
      "Inserting: 173\n",
      "Inserting: 174\n",
      "Inserting: 175\n",
      "Inserting: 176\n",
      "Inserting: 177\n",
      "Inserting: 178\n",
      "Inserting: 179\n",
      "Inserting: 180\n",
      "Inserting: 181\n",
      "Inserting: 182\n",
      "Inserting: 183\n",
      "Inserting: 184\n",
      "Inserting: 185\n",
      "Inserting: 186\n",
      "Inserting: 187\n",
      "Inserting: 188\n",
      "Inserting: 189\n",
      "Inserting: 190\n",
      "Inserting: 191\n",
      "Inserting: 192\n",
      "Inserting: 193\n",
      "Inserting: 194\n",
      "Inserting: 195\n",
      "Inserting: 196\n",
      "Inserting: 197\n",
      "Inserting: 198\n",
      "Inserting: 199\n",
      "Inserting: 200\n",
      "Inserting: 201\n",
      "Inserting: 202\n",
      "Inserting: 203\n",
      "Inserting: 204\n",
      "Inserting: 205\n",
      "Inserting: 206\n",
      "Inserting: 207\n",
      "Inserting: 208\n",
      "Inserting: 209\n",
      "Inserting: 210\n",
      "Inserting: 211\n",
      "Inserting: 212\n",
      "Inserting: 213\n",
      "Inserting: 214\n",
      "Inserting: 215\n",
      "Inserting: 216\n",
      "Inserting: 217\n",
      "Inserting: 218\n",
      "Inserting: 219\n",
      "Inserting: 220\n",
      "Inserting: 221\n",
      "Inserting: 222\n",
      "Inserting: 223\n",
      "Inserting: 224\n",
      "Inserting: 225\n",
      "Inserting: 226\n",
      "Inserting: 227\n",
      "Inserting: 228\n",
      "Inserting: 229\n",
      "Inserting: 230\n",
      "Inserting: 231\n",
      "Inserting: 232\n",
      "Inserting: 233\n",
      "Inserting: 234\n",
      "Inserting: 235\n",
      "Inserting: 236\n",
      "Inserting: 237\n",
      "Inserting: 238\n",
      "Inserting: 239\n",
      "Inserting: 240\n",
      "Inserting: 241\n",
      "Inserting: 242\n",
      "Inserting: 243\n",
      "Inserting: 244\n",
      "Inserting: 245\n",
      "Inserting: 246\n",
      "Inserting: 247\n",
      "Inserting: 248\n",
      "Inserting: 249\n",
      "Inserting: 250\n",
      "Inserting: 251\n",
      "Inserting: 252\n",
      "Inserting: 253\n",
      "Inserting: 254\n",
      "Inserting: 255\n",
      "Inserting: 256\n",
      "Inserting: 257\n",
      "Inserting: 258\n",
      "Inserting: 259\n",
      "Inserting: 260\n",
      "Inserting: 261\n",
      "Inserting: 262\n",
      "Inserting: 263\n",
      "Inserting: 264\n",
      "Inserting: 265\n",
      "Inserting: 266\n",
      "Inserting: 267\n",
      "Inserting: 268\n",
      "Inserting: 269\n",
      "Inserting: 270\n",
      "Inserting: 271\n",
      "Inserting: 272\n",
      "Inserting: 273\n",
      "Inserting: 274\n",
      "Inserting: 275\n"
     ]
    }
   ],
   "source": [
    "for index,record in mydf.iterrows():\n",
    "    table.insert_one(record.to_dict())"
   ]
  },
  {
   "cell_type": "markdown",
   "metadata": {},
   "source": [
    "## Save to file"
   ]
  },
  {
   "cell_type": "code",
   "execution_count": null,
   "metadata": {},
   "outputs": [],
   "source": [
    "fileName = 'data/{0}.csv'.format(databaseName)\n",
    "mydf.to_csv(fileName, sep='\\t', index = False, header = False, mode = 'a')"
   ]
  },
  {
   "cell_type": "code",
   "execution_count": null,
   "metadata": {},
   "outputs": [],
   "source": [
    "mydf = pd.read_csv(fileName, sep='\\t')\n",
    "mydf"
   ]
  },
  {
   "cell_type": "markdown",
   "metadata": {},
   "source": [
    "**NOTE:**\n",
    "The data is split over the following files:\n",
    "- data/GFM_url_7k.csv(Scraped; uploaded)\n",
    "- data/GFM_url2_3k.csv\n",
    "- data/GFM_url3_2k.csv"
   ]
  },
  {
   "cell_type": "markdown",
   "metadata": {},
   "source": [
    "## Combining all CSVs "
   ]
  },
  {
   "cell_type": "code",
   "execution_count": null,
   "metadata": {},
   "outputs": [],
   "source": [
    "# import pandas as pd\n",
    "# import numpy as np"
   ]
  },
  {
   "cell_type": "code",
   "execution_count": null,
   "metadata": {},
   "outputs": [],
   "source": [
    "# fileList = [\n",
    "#     \"data/GFM_url_business_1k.csv\",\n",
    "#     \"data/GFM_url_emergency_1k.csv\",\n",
    "#     \"data/GFM_url_medical_1k.csv\",\n",
    "#     \"data/GFM_url_memorialEducation_1k.csv\",\n",
    "#     'data/GFM_url_volunteer_1k.csv',\n",
    "#     \"data/GFM_url_competition_1k.csv\"\n",
    "# ]"
   ]
  },
  {
   "cell_type": "code",
   "execution_count": null,
   "metadata": {},
   "outputs": [],
   "source": [
    "# final = pd.DataFrame()\n",
    "# for item in fileList:\n",
    "#     x = pd.read_csv(item,sep = '\\t')\n",
    "#     print(len(x))\n",
    "#     final = pd.concat([final,x], ignore_index = True)\n",
    "    \n",
    "# final.drop(['Unnamed: 0'],axis = 1, inplace = True)\n",
    "# final.tail()"
   ]
  },
  {
   "cell_type": "code",
   "execution_count": null,
   "metadata": {},
   "outputs": [],
   "source": [
    "# final.to_csv('data/GFM_url_compiled.csv', sep='\\t', index = False)"
   ]
  },
  {
   "cell_type": "code",
   "execution_count": null,
   "metadata": {},
   "outputs": [],
   "source": [
    "# pd.read_csv('data/GFM_url_compiled.csv', sep='\\t')"
   ]
  }
 ],
 "metadata": {
  "kernelspec": {
   "display_name": "Python 3",
   "language": "python",
   "name": "python3"
  },
  "language_info": {
   "codemirror_mode": {
    "name": "ipython",
    "version": 3
   },
   "file_extension": ".py",
   "mimetype": "text/x-python",
   "name": "python",
   "nbconvert_exporter": "python",
   "pygments_lexer": "ipython3",
   "version": "3.8.3"
  }
 },
 "nbformat": 4,
 "nbformat_minor": 4
}
