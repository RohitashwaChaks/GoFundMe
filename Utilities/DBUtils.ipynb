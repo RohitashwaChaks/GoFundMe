{
 "cells": [
  {
   "cell_type": "code",
   "execution_count": 1,
   "metadata": {},
   "outputs": [],
   "source": [
    "# stubIds = [\"5fe788434761f25abc2492c6\"\n",
    "# ,\"5fe788434761f25abc2492c7\"\n",
    "# ,\"5fe788434761f25abc2492c8\"\n",
    "# ,\"5fe788434761f25abc2492c9\"\n",
    "# ,\"5fe788434761f25abc2492ca\"\n",
    "# ,\"5fe788434761f25abc2492cb\"\n",
    "# ,\"5fe788434761f25abc249329\"\n",
    "# ,\"5fe788434761f25abc24932a\"\n",
    "# ,\"5fe788434761f25abc24932b\"\n",
    "# ,\"5fe788434761f25abc24932c\"\n",
    "# ,\"5fe788434761f25abc24932d\"\n",
    "# ,\"5fe788434761f25abc24932e\"\n",
    "# ,\"5fe788434761f25abc24932f\"\n",
    "# ,\"5fe788434761f25abc2492cc\"\n",
    "# ,\"5fe788434761f25abc2492cd\"\n",
    "# ,\"5fe788434761f25abc2492ce\"\n",
    "# ,\"5fe788434761f25abc2492cf\"\n",
    "# ,\"5fe788434761f25abc2492d0\"\n",
    "# ,\"5fe788434761f25abc2492d1\"\n",
    "# ,\"5fe788434761f25abc2492d2\"]"
   ]
  },
  {
   "cell_type": "code",
   "execution_count": 1,
   "metadata": {},
   "outputs": [
    {
     "name": "stdout",
     "output_type": "stream",
     "text": [
      "Stored 'headers' (list)\n"
     ]
    },
    {
     "data": {
      "text/plain": [
       "'GFM_url_list_12_27_20'"
      ]
     },
     "execution_count": 1,
     "metadata": {},
     "output_type": "execute_result"
    }
   ],
   "source": [
    "from pymongo import MongoClient\n",
    "from bson import ObjectId\n",
    "\n",
    "%run ./ScrapeUtils.ipynb\n",
    "%store -r databaseName\n",
    "databaseName"
   ]
  },
  {
   "cell_type": "code",
   "execution_count": 39,
   "metadata": {},
   "outputs": [],
   "source": [
    "def scrape_chunks(params):\n",
    "    documentIDs , tid = params\n",
    "    print(\"Started Scraping for Thread: \"+str(tid))\n",
    "#     print(len(documentIDs))\n",
    "    \n",
    "    client = MongoClient('mongodb://localhost:27017')\n",
    "    dbGFM = client.GFM[databaseName]\n",
    "    \n",
    "    for ids in documentIDs:\n",
    "        print(\"Thread ID: {0}, Document ID: {1}\".format(tid, ids))\n",
    "        document = dbGFM.find_one(ObjectId(ids))\n",
    "        url = document[\"Url\"]\n",
    "        scrapedData = scrape_url(url, tid)\n",
    "            \n",
    "        document.update(scrapedData)\n",
    "        \n",
    "        dbGFM.update_one( {\"_id\" : document[\"_id\"]}, {\"$set\": document})\n",
    "        \n",
    "#         print(url)\n",
    "    return"
   ]
  },
  {
   "cell_type": "code",
   "execution_count": 40,
   "metadata": {},
   "outputs": [
    {
     "name": "stdout",
     "output_type": "stream",
     "text": [
      "Started Scraping for Thread: thread1\n",
      "Document ID:  5fe788434761f25abc2492c6\n",
      "Scraping url:https://www.gofundme.com/f/collin-kartchner-memorial-fund\n",
      "duration error Handling'NoneType' object has no attribute 'text'\n"
     ]
    },
    {
     "data": {
      "text/plain": [
       "[]"
      ]
     },
     "execution_count": 40,
     "metadata": {},
     "output_type": "execute_result"
    }
   ],
   "source": [
    "# scrape_chunks((stubIds[0:1],\"thread1\"))"
   ]
  },
  {
   "cell_type": "code",
   "execution_count": 42,
   "metadata": {},
   "outputs": [
    {
     "data": {
      "text/plain": [
       "Collection(Database(MongoClient(host=['localhost:27017'], document_class=dict, tz_aware=False, connect=True), 'GFM'), 'GFM_url_list_12_27_20')"
      ]
     },
     "execution_count": 42,
     "metadata": {},
     "output_type": "execute_result"
    }
   ],
   "source": [
    "# client = MongoClient('mongodb://localhost:27017')\n",
    "# dbGFM = client.GFM[databaseName]\n",
    "# dbGFM"
   ]
  },
  {
   "cell_type": "code",
   "execution_count": 47,
   "metadata": {},
   "outputs": [],
   "source": [
    "# x = dbGFM.find_one({\"_id\":ObjectId(\"5fe788434761f25abc2492c6\")})\n",
    "# showImage(x[\"Image\"])"
   ]
  },
  {
   "cell_type": "code",
   "execution_count": null,
   "metadata": {},
   "outputs": [],
   "source": []
  },
  {
   "cell_type": "code",
   "execution_count": 32,
   "metadata": {},
   "outputs": [
    {
     "data": {
      "text/plain": [
       "{'_id': ObjectId('5fe788434761f25abc2492cc'),\n",
       " 'Url': 'https://www.gofundme.com/f/tony-amp-katherine-butterfield-family-memorial-fund',\n",
       " 'Category': 'Memorial',\n",
       " 'Position': 4}"
      ]
     },
     "execution_count": 32,
     "metadata": {},
     "output_type": "execute_result"
    }
   ],
   "source": [
    "# x = dbGFM.find_one(ObjectId(\"5fe788434761f25abc2492cc\"))\n",
    "# x"
   ]
  },
  {
   "cell_type": "code",
   "execution_count": null,
   "metadata": {},
   "outputs": [],
   "source": []
  }
 ],
 "metadata": {
  "kernelspec": {
   "display_name": "Python 3",
   "language": "python",
   "name": "python3"
  },
  "language_info": {
   "codemirror_mode": {
    "name": "ipython",
    "version": 3
   },
   "file_extension": ".py",
   "mimetype": "text/x-python",
   "name": "python",
   "nbconvert_exporter": "python",
   "pygments_lexer": "ipython3",
   "version": "3.8.3"
  }
 },
 "nbformat": 4,
 "nbformat_minor": 4
}
