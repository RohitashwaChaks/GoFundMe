{
 "cells": [
  {
   "cell_type": "code",
   "execution_count": 15,
   "metadata": {},
   "outputs": [
    {
     "name": "stdout",
     "output_type": "stream",
     "text": [
      "Stored 'headers' (list)\n"
     ]
    },
    {
     "data": {
      "text/plain": [
       "'GFM_url_list_12_27_20'"
      ]
     },
     "execution_count": 15,
     "metadata": {},
     "output_type": "execute_result"
    }
   ],
   "source": [
    "from pymongo import MongoClient\n",
    "from bson import ObjectId\n",
    "from tqdm import tqdm \n",
    "\n",
    "%run ./ScrapeUtils.ipynb\n",
    "%store -r databaseName\n",
    "databaseName"
   ]
  },
  {
   "cell_type": "code",
   "execution_count": 39,
   "metadata": {},
   "outputs": [],
   "source": [
    "def scrape_chunks(params, pbar):\n",
    "    documentIDs , tid = params\n",
    "    print(\"Started Scraping for Thread: \"+str(tid))\n",
    "    \n",
    "    client = MongoClient('mongodb://localhost:27017')\n",
    "    dbGFM = client.GFM[databaseName]\n",
    "    \n",
    "    for ids in tqdm(documentIDs, desc= tid):\n",
    "        print(\"Thread ID: {0}, Document ID: {1}\".format(tid, ids))\n",
    "        document = dbGFM.find_one(ObjectId(ids))\n",
    "        url = document[\"Url\"]\n",
    "        scrapedData = scrape_url(url, tid)            \n",
    "        document.update(scrapedData)        \n",
    "        dbGFM.update_one( {\"_id\" : document[\"_id\"]}, {\"$set\": document})\n",
    "        pbar.update(1)\n",
    "    return"
   ]
  },
  {
   "cell_type": "code",
   "execution_count": 5,
   "metadata": {},
   "outputs": [],
   "source": [
    "def updateDuration(params, pbar):\n",
    "    documentIDs , tid = params\n",
    "    print(\"Started Scraping for Thread: \"+str(tid))\n",
    "    \n",
    "    client = MongoClient('mongodb://localhost:27017')\n",
    "    dbGFM = client.GFM[databaseName]\n",
    "    \n",
    "    for ids in documentIDs:\n",
    "        print(\"Thread ID: {0}, Document ID: {1}\".format(tid, ids))\n",
    "        document = dbGFM.find_one(ObjectId(ids))\n",
    "        print(document[\"Url\"])\n",
    "        htmlDoc = document[\"WebPage\"]\n",
    "        scrapedData = scrape_htmlDoc(htmlDoc, tid)\n",
    "            \n",
    "        document.update(scrapedData)        \n",
    "        dbGFM.update_one( {\"_id\" : document[\"_id\"]}, {\"$set\": document})\n",
    "        pbar.update(1)\n",
    "    return"
   ]
  },
  {
   "cell_type": "code",
   "execution_count": 18,
   "metadata": {},
   "outputs": [],
   "source": [
    "def updateDurationv2(params, dbdate, pbar):\n",
    "    documentIDs , tid = params\n",
    "#     print(\"Started Scraping for Thread: \"+str(tid))\n",
    "    \n",
    "    client = MongoClient('mongodb://localhost:27017')\n",
    "    dbHTML = client.GFM[\"HTML_\"+dbdate]\n",
    "    dbData = client.GFM[\"Data_\"+dbdate]\n",
    "    \n",
    "    for ids in documentIDs:\n",
    "#         print(\"Thread ID: {0}, Document ID: {1}\".format(tid, ids))\n",
    "        document = dbHTML.find_one(ObjectId(ids))\n",
    "        htmlDoc = document[\"HTML\"]\n",
    "        \n",
    "        response = scrape_htmlDoc(htmlDoc, tid)\n",
    "        if \"Duration\" in response.keys():\n",
    "            duration = response[\"Duration\"]\n",
    "#             print(duration)\n",
    "            dbData.update_one({\"_id\": ObjectId(ids)}, {\"$set\": {\"Duration\": duration}})\n",
    "        pbar.update(1)\n",
    "    return"
   ]
  },
  {
   "cell_type": "code",
   "execution_count": 19,
   "metadata": {},
   "outputs": [
    {
     "ename": "AttributeError",
     "evalue": "'int' object has no attribute 'update'",
     "output_type": "error",
     "traceback": [
      "\u001b[1;31m---------------------------------------------------------------------------\u001b[0m",
      "\u001b[1;31mAttributeError\u001b[0m                            Traceback (most recent call last)",
      "\u001b[1;32m<ipython-input-19-2b99e5a93274>\u001b[0m in \u001b[0;36m<module>\u001b[1;34m\u001b[0m\n\u001b[1;32m----> 1\u001b[1;33m \u001b[0mupdateDurationv2\u001b[0m\u001b[1;33m(\u001b[0m\u001b[1;33m(\u001b[0m\u001b[1;33m[\u001b[0m\u001b[1;34m\"5fe88bbbb52b69fadc3d0e11\"\u001b[0m\u001b[1;33m]\u001b[0m\u001b[1;33m,\u001b[0m \u001b[1;34m\"tid_1\"\u001b[0m\u001b[1;33m)\u001b[0m\u001b[1;33m,\u001b[0m \u001b[1;34m\"12_27_20\"\u001b[0m\u001b[1;33m,\u001b[0m\u001b[1;36m1\u001b[0m\u001b[1;33m)\u001b[0m\u001b[1;33m\u001b[0m\u001b[1;33m\u001b[0m\u001b[0m\n\u001b[0m",
      "\u001b[1;32m<ipython-input-18-a2b7b2a8f6c6>\u001b[0m in \u001b[0;36mupdateDurationv2\u001b[1;34m(params, dbdate, pbar)\u001b[0m\n\u001b[0;32m     17\u001b[0m \u001b[1;31m#             print(duration)\u001b[0m\u001b[1;33m\u001b[0m\u001b[1;33m\u001b[0m\u001b[1;33m\u001b[0m\u001b[0m\n\u001b[0;32m     18\u001b[0m             \u001b[0mdbData\u001b[0m\u001b[1;33m.\u001b[0m\u001b[0mupdate_one\u001b[0m\u001b[1;33m(\u001b[0m\u001b[1;33m{\u001b[0m\u001b[1;34m\"_id\"\u001b[0m\u001b[1;33m:\u001b[0m \u001b[0mObjectId\u001b[0m\u001b[1;33m(\u001b[0m\u001b[0mids\u001b[0m\u001b[1;33m)\u001b[0m\u001b[1;33m}\u001b[0m\u001b[1;33m,\u001b[0m \u001b[1;33m{\u001b[0m\u001b[1;34m\"$set\"\u001b[0m\u001b[1;33m:\u001b[0m \u001b[1;33m{\u001b[0m\u001b[1;34m\"Duration\"\u001b[0m\u001b[1;33m:\u001b[0m \u001b[0mduration\u001b[0m\u001b[1;33m}\u001b[0m\u001b[1;33m}\u001b[0m\u001b[1;33m)\u001b[0m\u001b[1;33m\u001b[0m\u001b[1;33m\u001b[0m\u001b[0m\n\u001b[1;32m---> 19\u001b[1;33m         \u001b[0mpbar\u001b[0m\u001b[1;33m.\u001b[0m\u001b[0mupdate\u001b[0m\u001b[1;33m(\u001b[0m\u001b[1;36m1\u001b[0m\u001b[1;33m)\u001b[0m\u001b[1;33m\u001b[0m\u001b[1;33m\u001b[0m\u001b[0m\n\u001b[0m\u001b[0;32m     20\u001b[0m     \u001b[1;32mreturn\u001b[0m\u001b[1;33m\u001b[0m\u001b[1;33m\u001b[0m\u001b[0m\n",
      "\u001b[1;31mAttributeError\u001b[0m: 'int' object has no attribute 'update'"
     ]
    }
   ],
   "source": [
    "# updateDurationv2(([\"5fe88bbbb52b69fadc3d0e11\"], \"tid_1\"), \"12_27_20\",1)"
   ]
  },
  {
   "cell_type": "code",
   "execution_count": 40,
   "metadata": {},
   "outputs": [],
   "source": [
    "def splitDB(params, pbar):\n",
    "    errorList = []\n",
    "    documentIDs , tid = params\n",
    "    \n",
    "    client = MongoClient('mongodb://localhost:27017')\n",
    "    dbGFM = client.GFM[databaseName]\n",
    "    dbdate = '_'.join(databaseName.split(\"_\")[3:])\n",
    "    dbImage = client.GFM[\"Img_\"+dbdate]\n",
    "    dbHTML = client.GFM[\"HTML_\"+dbdate]\n",
    "    dbData = client.GFM[\"Data_\"+dbdate]\n",
    "    \n",
    "    lstImg =[]\n",
    "    lstHTML =[]\n",
    "    lstData =[]\n",
    "    for ids in documentIDs:\n",
    "        try:\n",
    "            document = dbGFM.find_one(ObjectId(ids))\n",
    "            \n",
    "            if \"Image\" in document.keys(): \n",
    "                dbImage.insert_one({\"_id\": ObjectId(ids), \"Image\": document[\"Image\"]})\n",
    "                document.pop(\"Image\")\n",
    "\n",
    "            if \"WebPage\" in document.keys(): \n",
    "                dbHTML.insert_one({\"_id\": ObjectId(ids), \"HTML\": document[\"WebPage\"]})\n",
    "                document.pop(\"WebPage\")\n",
    "\n",
    "            dbData.insert_one(document)\n",
    "        except Exception as e:\n",
    "            errorList.append({ids:str(e)})\n",
    "        pbar.update(1)\n",
    "    return errorList"
   ]
  },
  {
   "cell_type": "code",
   "execution_count": 43,
   "metadata": {},
   "outputs": [
    {
     "ename": "AttributeError",
     "evalue": "'int' object has no attribute 'update'",
     "output_type": "error",
     "traceback": [
      "\u001b[1;31m---------------------------------------------------------------------------\u001b[0m",
      "\u001b[1;31mAttributeError\u001b[0m                            Traceback (most recent call last)",
      "\u001b[1;32m<ipython-input-43-e193932332a8>\u001b[0m in \u001b[0;36m<module>\u001b[1;34m\u001b[0m\n\u001b[1;32m----> 1\u001b[1;33m \u001b[0msplitDB\u001b[0m\u001b[1;33m(\u001b[0m\u001b[1;33m(\u001b[0m\u001b[1;33m[\u001b[0m\u001b[1;34m\"5fe88bbbb52b69fadc3d0e0e\"\u001b[0m\u001b[1;33m]\u001b[0m\u001b[1;33m,\u001b[0m\u001b[1;34m\"tid\"\u001b[0m\u001b[1;33m)\u001b[0m\u001b[1;33m,\u001b[0m\u001b[1;36m1\u001b[0m\u001b[1;33m)\u001b[0m\u001b[1;33m\u001b[0m\u001b[1;33m\u001b[0m\u001b[0m\n\u001b[0m",
      "\u001b[1;32m<ipython-input-40-17a50f4251ad>\u001b[0m in \u001b[0;36msplitDB\u001b[1;34m(params, pbar)\u001b[0m\n\u001b[0;32m     28\u001b[0m         \u001b[1;32mexcept\u001b[0m \u001b[0mException\u001b[0m \u001b[1;32mas\u001b[0m \u001b[0me\u001b[0m\u001b[1;33m:\u001b[0m\u001b[1;33m\u001b[0m\u001b[1;33m\u001b[0m\u001b[0m\n\u001b[0;32m     29\u001b[0m             \u001b[0merrorList\u001b[0m\u001b[1;33m.\u001b[0m\u001b[0mappend\u001b[0m\u001b[1;33m(\u001b[0m\u001b[1;33m{\u001b[0m\u001b[0mids\u001b[0m\u001b[1;33m:\u001b[0m\u001b[0mstr\u001b[0m\u001b[1;33m(\u001b[0m\u001b[0me\u001b[0m\u001b[1;33m)\u001b[0m\u001b[1;33m}\u001b[0m\u001b[1;33m)\u001b[0m\u001b[1;33m\u001b[0m\u001b[1;33m\u001b[0m\u001b[0m\n\u001b[1;32m---> 30\u001b[1;33m         \u001b[0mpbar\u001b[0m\u001b[1;33m.\u001b[0m\u001b[0mupdate\u001b[0m\u001b[1;33m(\u001b[0m\u001b[1;36m1\u001b[0m\u001b[1;33m)\u001b[0m\u001b[1;33m\u001b[0m\u001b[1;33m\u001b[0m\u001b[0m\n\u001b[0m\u001b[0;32m     31\u001b[0m     \u001b[1;32mreturn\u001b[0m \u001b[0merrorList\u001b[0m\u001b[1;33m\u001b[0m\u001b[1;33m\u001b[0m\u001b[0m\n",
      "\u001b[1;31mAttributeError\u001b[0m: 'int' object has no attribute 'update'"
     ]
    }
   ],
   "source": [
    "# splitDB(([\"5fe88bbbb52b69fadc3d0e0e\"],\"tid\"),1)"
   ]
  },
  {
   "cell_type": "markdown",
   "metadata": {},
   "source": [
    "## Stub Code"
   ]
  },
  {
   "cell_type": "code",
   "execution_count": 3,
   "metadata": {},
   "outputs": [],
   "source": [
    "# stubIds = [\"5fe88bbbb52b69fadc3d0e10\",\n",
    "#            \"5fe88bbbb52b69fadc3d0e11\",\n",
    "#            \"5fe88bbbb52b69fadc3d0e12\",\n",
    "#            \"5fe88bbbb52b69fadc3d0e13\",\n",
    "#            \"5fe88bbbb52b69fadc3d0e14\",\n",
    "#            \"5fe88bbbb52b69fadc3d0e15\",\n",
    "#            \"5fe88bbbb52b69fadc3d0e16\",\n",
    "#            \"5fe88bbbb52b69fadc3d0e17\",\n",
    "#            \"5fe88bbbb52b69fadc3d0e18\",\n",
    "#            \"5fe88bbbb52b69fadc3d0e19\",\n",
    "#            \"5fe88bbbb52b69fadc3d0e0e\"]"
   ]
  },
  {
   "cell_type": "code",
   "execution_count": 69,
   "metadata": {},
   "outputs": [],
   "source": [
    "# scrape_chunks((stubIds[0:1],\"thread1\"))"
   ]
  },
  {
   "cell_type": "code",
   "execution_count": 6,
   "metadata": {},
   "outputs": [
    {
     "ename": "TypeError",
     "evalue": "updateDuration() missing 1 required positional argument: 'pbar'",
     "output_type": "error",
     "traceback": [
      "\u001b[1;31m---------------------------------------------------------------------------\u001b[0m",
      "\u001b[1;31mTypeError\u001b[0m                                 Traceback (most recent call last)",
      "\u001b[1;32m<ipython-input-6-7ea78781e1cf>\u001b[0m in \u001b[0;36m<module>\u001b[1;34m\u001b[0m\n\u001b[1;32m----> 1\u001b[1;33m \u001b[0mt\u001b[0m \u001b[1;33m=\u001b[0m \u001b[0mupdateDuration\u001b[0m\u001b[1;33m(\u001b[0m\u001b[1;33m(\u001b[0m\u001b[0mstubIds\u001b[0m\u001b[1;33m,\u001b[0m\u001b[1;34m\"thread1\"\u001b[0m\u001b[1;33m)\u001b[0m\u001b[1;33m)\u001b[0m\u001b[1;33m\u001b[0m\u001b[1;33m\u001b[0m\u001b[0m\n\u001b[0m\u001b[0;32m      2\u001b[0m \u001b[0mt\u001b[0m\u001b[1;33m\u001b[0m\u001b[1;33m\u001b[0m\u001b[0m\n",
      "\u001b[1;31mTypeError\u001b[0m: updateDuration() missing 1 required positional argument: 'pbar'"
     ]
    }
   ],
   "source": [
    "# t = updateDuration((stubIds,\"thread1\"))\n",
    "# t"
   ]
  },
  {
   "cell_type": "code",
   "execution_count": 67,
   "metadata": {},
   "outputs": [],
   "source": [
    "# client = MongoClient('mongodb://localhost:27017')\n",
    "# dbGFM = client.GFM[databaseName]\n",
    "# dbGFM"
   ]
  },
  {
   "cell_type": "code",
   "execution_count": 68,
   "metadata": {},
   "outputs": [],
   "source": [
    "# x = dbGFM.find_one({\"_id\":ObjectId(\"5fe788434761f25abc2492c6\")})\n",
    "# showImage(x[\"Image\"])"
   ]
  },
  {
   "cell_type": "code",
   "execution_count": null,
   "metadata": {},
   "outputs": [],
   "source": []
  }
 ],
 "metadata": {
  "kernelspec": {
   "display_name": "Python 3",
   "language": "python",
   "name": "python3"
  },
  "language_info": {
   "codemirror_mode": {
    "name": "ipython",
    "version": 3
   },
   "file_extension": ".py",
   "mimetype": "text/x-python",
   "name": "python",
   "nbconvert_exporter": "python",
   "pygments_lexer": "ipython3",
   "version": "3.8.3"
  }
 },
 "nbformat": 4,
 "nbformat_minor": 4
}
