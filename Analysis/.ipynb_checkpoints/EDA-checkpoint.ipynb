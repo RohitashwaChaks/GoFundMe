{
 "cells": [
  {
   "cell_type": "code",
   "execution_count": 1,
   "metadata": {},
   "outputs": [],
   "source": [
    "import pandas as pd\n",
    "import numpy as np\n",
    "import matplotlib as plt\n",
    "import pymongo"
   ]
  },
  {
   "cell_type": "code",
   "execution_count": null,
   "metadata": {},
   "outputs": [],
   "source": [
    "client = MongoClient('mongodb://localhost:27017')\n",
    "dbData = client.GFM[\"Data_12_27_20\"]"
   ]
  },
  {
   "cell_type": "code",
   "execution_count": 2,
   "metadata": {},
   "outputs": [
    {
     "name": "stdout",
     "output_type": "stream",
     "text": [
      "(17111, 11)\n"
     ]
    },
    {
     "data": {
      "text/html": [
       "<div>\n",
       "<style scoped>\n",
       "    .dataframe tbody tr th:only-of-type {\n",
       "        vertical-align: middle;\n",
       "    }\n",
       "\n",
       "    .dataframe tbody tr th {\n",
       "        vertical-align: top;\n",
       "    }\n",
       "\n",
       "    .dataframe thead th {\n",
       "        text-align: right;\n",
       "    }\n",
       "</style>\n",
       "<table border=\"1\" class=\"dataframe\">\n",
       "  <thead>\n",
       "    <tr style=\"text-align: right;\">\n",
       "      <th></th>\n",
       "      <th>Url</th>\n",
       "      <th>Category</th>\n",
       "      <th>Position</th>\n",
       "      <th>Title</th>\n",
       "      <th>Location</th>\n",
       "      <th>Organiser</th>\n",
       "      <th>Amount_Raised</th>\n",
       "      <th>Goal</th>\n",
       "      <th>Duration</th>\n",
       "      <th>Text</th>\n",
       "      <th>Image</th>\n",
       "    </tr>\n",
       "  </thead>\n",
       "  <tbody>\n",
       "    <tr>\n",
       "      <th>0</th>\n",
       "      <td>https://www.gofundme.com/f/money-to-buy-hearin...</td>\n",
       "      <td>Medical</td>\n",
       "      <td>0</td>\n",
       "      <td>Fundraiser by Chandan Shivu Kumar : Money to b...</td>\n",
       "      <td>NaN</td>\n",
       "      <td>NaN</td>\n",
       "      <td>$250</td>\n",
       "      <td>$250</td>\n",
       "      <td>236.0</td>\n",
       "      <td>Hello there, I'm a random guy from India who's...</td>\n",
       "      <td>data/images/44793298_1579175168658123_r.jpeg</td>\n",
       "    </tr>\n",
       "    <tr>\n",
       "      <th>1</th>\n",
       "      <td>https://www.gofundme.com/f/justiceforjacobblake</td>\n",
       "      <td>Medical</td>\n",
       "      <td>1</td>\n",
       "      <td>Fundraiser by Julia Jackson : Justice for Jaco...</td>\n",
       "      <td>Kenosha, WI</td>\n",
       "      <td>Julia Jackson</td>\n",
       "      <td>$2,252,260</td>\n",
       "      <td>$3,000,000</td>\n",
       "      <td>15.0</td>\n",
       "      <td>On August 23rd my son was shot multiple times ...</td>\n",
       "      <td>data/images/50669212_1598282954644748_r.jpg</td>\n",
       "    </tr>\n",
       "    <tr>\n",
       "      <th>2</th>\n",
       "      <td>https://www.gofundme.com/f/official-navajo-nat...</td>\n",
       "      <td>Medical</td>\n",
       "      <td>2</td>\n",
       "      <td>Fundraiser for Pearline Kirk by Navajo Nation ...</td>\n",
       "      <td>Window Rock, AZ</td>\n",
       "      <td>Navajo Nation</td>\n",
       "      <td>$1,770,760</td>\n",
       "      <td>$1,000,000</td>\n",
       "      <td>127.0</td>\n",
       "      <td>The Navajo Nation COVID-19 Fund has been estab...</td>\n",
       "      <td>data/images/47855360_1589149838795170_r.jpeg</td>\n",
       "    </tr>\n",
       "    <tr>\n",
       "      <th>3</th>\n",
       "      <td>https://www.gofundme.com/f/emergenza-covid-ces...</td>\n",
       "      <td>Medical</td>\n",
       "      <td>2</td>\n",
       "      <td>Fundraiser by Gloria Zavatta : Cesvi per l'osp...</td>\n",
       "      <td>Team member</td>\n",
       "      <td>Gloria Zavatta</td>\n",
       "      <td>€1,506,210</td>\n",
       "      <td>€1,500,000</td>\n",
       "      <td>182.0</td>\n",
       "      <td>Per aggiornamenti su come stiamo impiegando i ...</td>\n",
       "      <td>data/images/46073102_1583841007387069_r.jpeg</td>\n",
       "    </tr>\n",
       "    <tr>\n",
       "      <th>4</th>\n",
       "      <td>https://www.gofundme.com/f/save-nil039s-life</td>\n",
       "      <td>Medical</td>\n",
       "      <td>2</td>\n",
       "      <td>Fundraiser by Berk Atikoğlu : Save Nil's Life!</td>\n",
       "      <td>Brooklyn, NY</td>\n",
       "      <td>Berk Atikoğlu</td>\n",
       "      <td>$2,402,980</td>\n",
       "      <td>$2,400,000</td>\n",
       "      <td>182.0</td>\n",
       "      <td>Save Nil’s Life ! I am starting a campaign for...</td>\n",
       "      <td>data/images/46072754_1583838455417877_r.jpeg</td>\n",
       "    </tr>\n",
       "  </tbody>\n",
       "</table>\n",
       "</div>"
      ],
      "text/plain": [
       "                                                 Url Category  Position  \\\n",
       "0  https://www.gofundme.com/f/money-to-buy-hearin...  Medical         0   \n",
       "1    https://www.gofundme.com/f/justiceforjacobblake  Medical         1   \n",
       "2  https://www.gofundme.com/f/official-navajo-nat...  Medical         2   \n",
       "3  https://www.gofundme.com/f/emergenza-covid-ces...  Medical         2   \n",
       "4       https://www.gofundme.com/f/save-nil039s-life  Medical         2   \n",
       "\n",
       "                                               Title         Location  \\\n",
       "0  Fundraiser by Chandan Shivu Kumar : Money to b...              NaN   \n",
       "1  Fundraiser by Julia Jackson : Justice for Jaco...      Kenosha, WI   \n",
       "2  Fundraiser for Pearline Kirk by Navajo Nation ...  Window Rock, AZ   \n",
       "3  Fundraiser by Gloria Zavatta : Cesvi per l'osp...      Team member   \n",
       "4     Fundraiser by Berk Atikoğlu : Save Nil's Life!     Brooklyn, NY   \n",
       "\n",
       "        Organiser Amount_Raised        Goal  Duration  \\\n",
       "0             NaN          $250        $250     236.0   \n",
       "1   Julia Jackson    $2,252,260  $3,000,000      15.0   \n",
       "2   Navajo Nation    $1,770,760  $1,000,000     127.0   \n",
       "3  Gloria Zavatta    €1,506,210  €1,500,000     182.0   \n",
       "4   Berk Atikoğlu    $2,402,980  $2,400,000     182.0   \n",
       "\n",
       "                                                Text  \\\n",
       "0  Hello there, I'm a random guy from India who's...   \n",
       "1  On August 23rd my son was shot multiple times ...   \n",
       "2  The Navajo Nation COVID-19 Fund has been estab...   \n",
       "3  Per aggiornamenti su come stiamo impiegando i ...   \n",
       "4  Save Nil’s Life ! I am starting a campaign for...   \n",
       "\n",
       "                                          Image  \n",
       "0  data/images/44793298_1579175168658123_r.jpeg  \n",
       "1   data/images/50669212_1598282954644748_r.jpg  \n",
       "2  data/images/47855360_1589149838795170_r.jpeg  \n",
       "3  data/images/46073102_1583841007387069_r.jpeg  \n",
       "4  data/images/46072754_1583838455417877_r.jpeg  "
      ]
     },
     "execution_count": 2,
     "metadata": {},
     "output_type": "execute_result"
    }
   ],
   "source": [
    "data = pd.read_csv(\"data/GFM_dataRevised.csv\", sep = \"\\t\")\n",
    "print(data.shape)\n",
    "data.head()"
   ]
  },
  {
   "cell_type": "markdown",
   "metadata": {},
   "source": [
    "Number of fundraiser's with amount_raised = goal\n",
    "\n",
    "\n",
    "(Check if amount raised = 0)"
   ]
  },
  {
   "cell_type": "code",
   "execution_count": 14,
   "metadata": {},
   "outputs": [
    {
     "name": "stdout",
     "output_type": "stream",
     "text": [
      "266\n"
     ]
    }
   ],
   "source": [
    "_ = data[data.Amount_Raised == data.Goal]\n",
    "print(len(_))"
   ]
  },
  {
   "cell_type": "code",
   "execution_count": 15,
   "metadata": {},
   "outputs": [
    {
     "name": "stdout",
     "output_type": "stream",
     "text": [
      "https://www.gofundme.com/f/help-kuba-go-to-seamajor-and-first-attack-for-dbfz\n",
      "https://www.gofundme.com/f/money-to-buy-hearing-aids-for-me-as-well-as-others\n"
     ]
    }
   ],
   "source": [
    "print(_.Url.iloc[7])\n",
    "print(_.Url.iloc[0])"
   ]
  },
  {
   "cell_type": "code",
   "execution_count": 16,
   "metadata": {},
   "outputs": [],
   "source": [
    "headers = [\"Url\", \"Category\",\"Position\", \"Title\", \"Location\", \"Organiser\",\"Amount_Raised\", \"Goal\", \"Duration\", \"Text\", \"Image\"]"
   ]
  },
  {
   "cell_type": "code",
   "execution_count": 17,
   "metadata": {},
   "outputs": [],
   "source": [
    "listInvalidCampaign = []\n",
    "lstScrapingError = []\n",
    "\n",
    "def scrape_url(url, tid = \"mainThread\"):\n",
    "    print(\"Scraping url %s\", url)\n",
    "        \n",
    "    page = requests.get(url)\n",
    "    soup = BeautifulSoup(page.text, 'lxml')\n",
    "    \n",
    "    temp_df = pd.DataFrame(columns = headers)\n",
    "    \n",
    "#     invalidCampaign = soup.find('div', attrs={'class': 'm-campaign-sidebar-notification m-well m-well--sand'})\n",
    "    \n",
    "#     if(invalidCampaign is not None):\n",
    "#         text_container =  soup.find('meta', attrs={'name': 'description'})\n",
    "#         print(text_container['content'])\n",
    "#         listInvalidCampaign.append(row_index)\n",
    "#         return \"Invalid Campaign\"\n",
    "    \n",
    "    try:\n",
    "        # Description\n",
    "        text_container =  soup.find('meta', attrs={'name': 'description'})\n",
    "        try:\n",
    "            all_text = text_container['content']\n",
    "        except:\n",
    "            all_text = np.nan\n",
    "\n",
    "        if(all_text is np.nan )or(all_text == \"We're sorry, but that campaign cannot be found. Please check the link URL and try again.\"):\n",
    "            print(tid+' ('+str(row_index)+') -> '+all_text)\n",
    "            listInvalidCampaign.append(row_index)\n",
    "            temp_df = pd.DataFrame(columns = headers)\n",
    "            return(temp_df)\n",
    "\n",
    "        # Title\n",
    "        try:\n",
    "            title = soup.find(\"title\").text\n",
    "        except:\n",
    "            title = np.nan\n",
    "\n",
    "        # Organiser & Location\n",
    "        try:\n",
    "            t = soup.find_all(\"div\",{\"class\":\"p-campaign-members\"})[0]\n",
    "            organiser = t.find_all(\"div\",{\"class\": \"m-person-info-name\"})[0].text.replace('\\xa0','')\n",
    "            location = \"\"\n",
    "            if(len(t.find_all(\"div\",{\"class\": \"text-small\"})) > 3):\n",
    "                location = t.find_all(\"div\",{\"class\": \"text-small\"})[2].text.replace('\\xa0','')\n",
    "            else:\n",
    "                location = t.find_all(\"div\",{\"class\": \"text-small\"})[1].text.replace('\\xa0','')\n",
    "        except:\n",
    "            organiser = np.nan\n",
    "            location = np.nan\n",
    "\n",
    "        # Amount Raised and Goal\n",
    "        try:\n",
    "            t = soup.find(\"div\",{\"class\":\"p-campaign-sidebar\"})\n",
    "            amount = t.find(\"div\",{\"class\": \"o-campaign-sidebar-progress-meter m-progress-meter\"})\n",
    "            amountRaised = amount.text.split()[0]\n",
    "            goal = amount.text.split()[-2]\n",
    "        except:\n",
    "            amountRaised = np.nan\n",
    "            goal = np.nan\n",
    "\n",
    "        # All Text\n",
    "        soup.find('div', {'class': \"p-campaign-description\"})\n",
    "        text = soup.find('div', {'class': \"o-campaign-story mt-three-halves\"}).text.replace('\\xa0','').replace('\\n','')\n",
    "        text\n",
    "\n",
    "        # Duration of Fundraising\n",
    "        try:\n",
    "            t = soup.find(\"div\",{\"class\": \"p-campaign-description\"})\n",
    "            startDate = ' '.join(t.find(\"li\",{\"class\": \"m-meta-list-item\"}).text.split()[1::])\n",
    "            startDate = (pd.to_datetime(startDate)).date()\n",
    "            duration = (pd.datetime.now().date() - startDate).days\n",
    "        except:\n",
    "            duration = np.nan\n",
    "\n",
    "        #Image\n",
    "        try:\n",
    "            img_container =  soup.find('meta', attrs={'property': 'og:image'})\n",
    "            image_url = img_container['content']\n",
    "\n",
    "            img_filename = \"data/images/\"+image_url.split(\"/\")[-1]\n",
    "\n",
    "            # Open the url image, set stream to True, this will return the stream content.\n",
    "            r = requests.get(image_url, stream = True)\n",
    "\n",
    "            # Check if the image was retrieved successfully\n",
    "            if r.status_code == 200:\n",
    "                # Set decode_content value to True, otherwise the downloaded image file's size will be zero.\n",
    "                r.raw.decode_content = True\n",
    "\n",
    "                # Open a local file with wb ( write binary ) permission.\n",
    "                with open(img_filename,'wb') as f:\n",
    "                    shutil.copyfileobj(r.raw, f)\n",
    "        except:\n",
    "            img_filename = np.nan\n",
    "\n",
    "    #     # FB likes and Shares    \n",
    "    #     try:\n",
    "    #         FB_shares_container = soup.find_all(\"strong\", {\"class\":\"js-share-count-text\"})\n",
    "    #         FB_shares = FB_shares_container[0].text.splitlines()\n",
    "    #         FB_shares = FB_shares[1].replace(\" \", \"\").replace(\"\\xa0\", \"\")\n",
    "    #     except:\n",
    "    #         FB_shares = np.nan\n",
    "\n",
    "    #     try:\n",
    "    #         hearts_container = soup.find_all(\"div\", {\"class\":\"campaign-sp campaign-sp--heart fave-num\"})\n",
    "    #         hearts = hearts_container[0].text\n",
    "    #     except:\n",
    "    #         hearts = np.nan\n",
    "\n",
    "        temp_row = np.array([[url, category, position, title, location, organiser, amountRaised, goal, duration, text, img_filename]])\n",
    "        temp_df = pd.DataFrame(temp_row, columns = headers)\n",
    "\n",
    "        return(temp_df)\n",
    "    \n",
    "    except:\n",
    "        lstScrapingError.append(row_index)\n",
    "        return tid+' ('+str(row_index)+') -> '+\"Scraping Error\""
   ]
  },
  {
   "cell_type": "code",
   "execution_count": 18,
   "metadata": {},
   "outputs": [
    {
     "name": "stdout",
     "output_type": "stream",
     "text": [
      "Scraping url %s https://www.gofundme.com/f/help-kuba-go-to-seamajor-and-first-attack-for-dbfz\n"
     ]
    },
    {
     "ename": "NameError",
     "evalue": "name 'requests' is not defined",
     "output_type": "error",
     "traceback": [
      "\u001b[1;31m---------------------------------------------------------------------------\u001b[0m",
      "\u001b[1;31mNameError\u001b[0m                                 Traceback (most recent call last)",
      "\u001b[1;32m<ipython-input-18-6cf37adbdd79>\u001b[0m in \u001b[0;36m<module>\u001b[1;34m\u001b[0m\n\u001b[1;32m----> 1\u001b[1;33m \u001b[0mscrape_url\u001b[0m\u001b[1;33m(\u001b[0m\u001b[0m_\u001b[0m\u001b[1;33m.\u001b[0m\u001b[0mUrl\u001b[0m\u001b[1;33m.\u001b[0m\u001b[0miloc\u001b[0m\u001b[1;33m[\u001b[0m\u001b[1;36m7\u001b[0m\u001b[1;33m]\u001b[0m\u001b[1;33m)\u001b[0m\u001b[1;33m\u001b[0m\u001b[1;33m\u001b[0m\u001b[0m\n\u001b[0m",
      "\u001b[1;32m<ipython-input-17-7ca5ab6d8506>\u001b[0m in \u001b[0;36mscrape_url\u001b[1;34m(url, tid)\u001b[0m\n\u001b[0;32m      5\u001b[0m     \u001b[0mprint\u001b[0m\u001b[1;33m(\u001b[0m\u001b[1;34m\"Scraping url %s\"\u001b[0m\u001b[1;33m,\u001b[0m \u001b[0murl\u001b[0m\u001b[1;33m)\u001b[0m\u001b[1;33m\u001b[0m\u001b[1;33m\u001b[0m\u001b[0m\n\u001b[0;32m      6\u001b[0m \u001b[1;33m\u001b[0m\u001b[0m\n\u001b[1;32m----> 7\u001b[1;33m     \u001b[0mpage\u001b[0m \u001b[1;33m=\u001b[0m \u001b[0mrequests\u001b[0m\u001b[1;33m.\u001b[0m\u001b[0mget\u001b[0m\u001b[1;33m(\u001b[0m\u001b[0murl\u001b[0m\u001b[1;33m)\u001b[0m\u001b[1;33m\u001b[0m\u001b[1;33m\u001b[0m\u001b[0m\n\u001b[0m\u001b[0;32m      8\u001b[0m     \u001b[0msoup\u001b[0m \u001b[1;33m=\u001b[0m \u001b[0mBeautifulSoup\u001b[0m\u001b[1;33m(\u001b[0m\u001b[0mpage\u001b[0m\u001b[1;33m.\u001b[0m\u001b[0mtext\u001b[0m\u001b[1;33m,\u001b[0m \u001b[1;34m'lxml'\u001b[0m\u001b[1;33m)\u001b[0m\u001b[1;33m\u001b[0m\u001b[1;33m\u001b[0m\u001b[0m\n\u001b[0;32m      9\u001b[0m \u001b[1;33m\u001b[0m\u001b[0m\n",
      "\u001b[1;31mNameError\u001b[0m: name 'requests' is not defined"
     ]
    }
   ],
   "source": [
    "scrape_url(_.Url.iloc[7])"
   ]
  },
  {
   "cell_type": "code",
   "execution_count": null,
   "metadata": {},
   "outputs": [],
   "source": []
  }
 ],
 "metadata": {
  "kernelspec": {
   "display_name": "Python 3",
   "language": "python",
   "name": "python3"
  },
  "language_info": {
   "codemirror_mode": {
    "name": "ipython",
    "version": 3
   },
   "file_extension": ".py",
   "mimetype": "text/x-python",
   "name": "python",
   "nbconvert_exporter": "python",
   "pygments_lexer": "ipython3",
   "version": "3.8.3"
  }
 },
 "nbformat": 4,
 "nbformat_minor": 4
}
