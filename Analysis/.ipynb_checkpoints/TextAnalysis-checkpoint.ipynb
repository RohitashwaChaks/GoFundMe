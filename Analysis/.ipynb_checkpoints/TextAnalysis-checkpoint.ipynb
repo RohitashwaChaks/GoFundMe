{
 "cells": [
  {
   "cell_type": "code",
   "execution_count": 1,
   "metadata": {},
   "outputs": [],
   "source": [
    "import pandas as pd\n",
    "import numpy as np\n",
    "# import matplotlib.pyplot as plt\n",
    "from pymongo import MongoClient\n",
    "# import seaborn as sns\n",
    "import math\n",
    "\n",
    "# download nltk dependent files : punkt, stopwords, averaged_perceptron_tagger, maxent_ne_chunker, words\n",
    "import nltk\n",
    "from nltk import load_parser\n",
    "from nltk import word_tokenize\n",
    "from nltk.corpus import stopwords\n",
    "from nltk import word_tokenize, pos_tag, ne_chunk\n",
    "from nltk import Tree\n",
    "\n",
    "from nltk.corpus import stopwords\n",
    "from nltk import pos_tag\n",
    "import collections"
   ]
  },
  {
   "cell_type": "code",
   "execution_count": 2,
   "metadata": {},
   "outputs": [],
   "source": [
    "client = MongoClient('mongodb://localhost:27017')\n",
    "collection = client.GFM.Data_12_27_2020\n",
    "db = pd.DataFrame(collection.find({\"Status\":\"Active\",\"Category\":\"Medical\"}))\n",
    "# display(db.head())"
   ]
  },
  {
   "cell_type": "code",
   "execution_count": 3,
   "metadata": {},
   "outputs": [],
   "source": [
    "#DataError : goal = 0 means Amount_Raised = 0\n",
    "idx = (db.Goal == 0)\n",
    "db.loc[idx] = db.loc[idx].rename(columns={'Amount_Raised':'Goal','Goal':'Amount_Raised'})\n",
    "db[\"Progress\"] = db.Amount_Raised/db.Goal"
   ]
  },
  {
   "cell_type": "code",
   "execution_count": 30,
   "metadata": {},
   "outputs": [
    {
     "name": "stdout",
     "output_type": "stream",
     "text": [
      "972\n"
     ]
    },
    {
     "data": {
      "text/html": [
       "<div>\n",
       "<style scoped>\n",
       "    .dataframe tbody tr th:only-of-type {\n",
       "        vertical-align: middle;\n",
       "    }\n",
       "\n",
       "    .dataframe tbody tr th {\n",
       "        vertical-align: top;\n",
       "    }\n",
       "\n",
       "    .dataframe thead th {\n",
       "        text-align: right;\n",
       "    }\n",
       "</style>\n",
       "<table border=\"1\" class=\"dataframe\">\n",
       "  <thead>\n",
       "    <tr style=\"text-align: right;\">\n",
       "      <th></th>\n",
       "      <th>Url</th>\n",
       "      <th>Description</th>\n",
       "      <th>Text</th>\n",
       "      <th>Title</th>\n",
       "      <th>Progress</th>\n",
       "    </tr>\n",
       "  </thead>\n",
       "  <tbody>\n",
       "    <tr>\n",
       "      <th>0</th>\n",
       "      <td>https://www.gofundme.com/f/28b1bckz6o</td>\n",
       "      <td>We don’t need to explain a lot !\\n\\nWhat’s our...</td>\n",
       "      <td>We don’t need to explain a lot !What’s our par...</td>\n",
       "      <td>Fundraiser by Sarjit Singh : Just 1 euro is en...</td>\n",
       "      <td>0.120500</td>\n",
       "    </tr>\n",
       "    <tr>\n",
       "      <th>1</th>\n",
       "      <td>https://www.gofundme.com/f/money-to-buy-hearin...</td>\n",
       "      <td>Hello there, I'm a random guy from India who's...</td>\n",
       "      <td>Hello there, I'm a random guy from India who's...</td>\n",
       "      <td>Fundraiser by Chandan Shivu Kumar : Money to b...</td>\n",
       "      <td>0.000000</td>\n",
       "    </tr>\n",
       "    <tr>\n",
       "      <th>2</th>\n",
       "      <td>https://www.gofundme.com/f/justiceforjacobblake</td>\n",
       "      <td>On August 23rd my son was shot multiple times ...</td>\n",
       "      <td>On August 23rd my son was shot multiple times ...</td>\n",
       "      <td>Fundraiser by Julia Jackson : Justice for Jaco...</td>\n",
       "      <td>0.767003</td>\n",
       "    </tr>\n",
       "    <tr>\n",
       "      <th>3</th>\n",
       "      <td>https://www.gofundme.com/f/official-navajo-nat...</td>\n",
       "      <td>\\nThe Navajo Nation COVID-19 Fund has been est...</td>\n",
       "      <td>The Navajo Nation COVID-19 Fund has been estab...</td>\n",
       "      <td>Fundraiser for Pearline Kirk by Navajo Nation ...</td>\n",
       "      <td>0.924600</td>\n",
       "    </tr>\n",
       "    <tr>\n",
       "      <th>4</th>\n",
       "      <td>https://www.gofundme.com/f/emergenza-covid-ces...</td>\n",
       "      <td>Per aggiornamenti su come stiamo impiegando i ...</td>\n",
       "      <td>Per aggiornamenti su come stiamo impiegando i ...</td>\n",
       "      <td>Fundraiser by Gloria Zavatta : Cesvi per l'osp...</td>\n",
       "      <td>1.004613</td>\n",
       "    </tr>\n",
       "  </tbody>\n",
       "</table>\n",
       "</div>"
      ],
      "text/plain": [
       "                                                 Url  \\\n",
       "0              https://www.gofundme.com/f/28b1bckz6o   \n",
       "1  https://www.gofundme.com/f/money-to-buy-hearin...   \n",
       "2    https://www.gofundme.com/f/justiceforjacobblake   \n",
       "3  https://www.gofundme.com/f/official-navajo-nat...   \n",
       "4  https://www.gofundme.com/f/emergenza-covid-ces...   \n",
       "\n",
       "                                         Description  \\\n",
       "0  We don’t need to explain a lot !\\n\\nWhat’s our...   \n",
       "1  Hello there, I'm a random guy from India who's...   \n",
       "2  On August 23rd my son was shot multiple times ...   \n",
       "3  \\nThe Navajo Nation COVID-19 Fund has been est...   \n",
       "4  Per aggiornamenti su come stiamo impiegando i ...   \n",
       "\n",
       "                                                Text  \\\n",
       "0  We don’t need to explain a lot !What’s our par...   \n",
       "1  Hello there, I'm a random guy from India who's...   \n",
       "2  On August 23rd my son was shot multiple times ...   \n",
       "3  The Navajo Nation COVID-19 Fund has been estab...   \n",
       "4  Per aggiornamenti su come stiamo impiegando i ...   \n",
       "\n",
       "                                               Title  Progress  \n",
       "0  Fundraiser by Sarjit Singh : Just 1 euro is en...  0.120500  \n",
       "1  Fundraiser by Chandan Shivu Kumar : Money to b...  0.000000  \n",
       "2  Fundraiser by Julia Jackson : Justice for Jaco...  0.767003  \n",
       "3  Fundraiser for Pearline Kirk by Navajo Nation ...  0.924600  \n",
       "4  Fundraiser by Gloria Zavatta : Cesvi per l'osp...  1.004613  "
      ]
     },
     "execution_count": 30,
     "metadata": {},
     "output_type": "execute_result"
    }
   ],
   "source": [
    "dbData = db[[\"Url\",\"Description\",\"Text\",\"Title\",\"Progress\"]]\n",
    "print(len(dbData))\n",
    "dbData.head()"
   ]
  },
  {
   "cell_type": "code",
   "execution_count": 16,
   "metadata": {
    "scrolled": true
   },
   "outputs": [
    {
     "data": {
      "text/plain": [
       "\"The Navajo Nation COVID-19 Fund has been established to help the Navajo Nation respond to the COVID-19 pandemic. This is the Navajo Nation’s only official COVID-19 fundraising and donation effort.The Navajo Nation is accepting monetary and non-monetary donations to address immediate medical and community needs. The Navajo Nation’s Health Command Center is coordinating donations to the Nation through the Nation's Department of Justice and Office of the Controller. Pearline Kirk is the Navajo Nation Controller. Non-monetary donations are also accepted. For more information see www.navajo.fund or call (928)871-6206.For official information on COVID-19 on the Navajo Nation, please see: https://www.ndoh.navajo-nsn.gov/COVID-19The Official Navajo Nation government website is: https://www.navajo-nsn.gov\""
      ]
     },
     "execution_count": 16,
     "metadata": {},
     "output_type": "execute_result"
    }
   ],
   "source": [
    "a = dbData.Text.iloc[3]\n",
    "a"
   ]
  },
  {
   "cell_type": "markdown",
   "metadata": {},
   "source": [
    "## Most Significant Words"
   ]
  },
  {
   "cell_type": "code",
   "execution_count": 27,
   "metadata": {},
   "outputs": [
    {
     "name": "stdout",
     "output_type": "stream",
     "text": [
      "How many most common words to print: 5\n",
      "\n",
      "OK. The 5 most common words are as follows\n",
      "\n",
      "navajo :  8, [('navajo', 'NN')]\n",
      "nation :  7, [('nation', 'NN')]\n",
      "covid-19 :  4, [('covid-19', 'NN')]\n",
      "official :  3, [('official', 'NN')]\n",
      "donations :  3, [('donations', 'NNS')]\n"
     ]
    },
    {
     "data": {
      "text/plain": [
       "<matplotlib.axes._subplots.AxesSubplot at 0x238dddf85e0>"
      ]
     },
     "execution_count": 27,
     "metadata": {},
     "output_type": "execute_result"
    },
    {
     "data": {
      "image/png": "[encoded data removed]",
      "text/plain": [
       "<Figure size 432x288 with 1 Axes>"
      ]
     },
     "metadata": {
      "needs_background": "light"
     },
     "output_type": "display_data"
    }
   ],
   "source": [
    "# Stopwords\n",
    "stopwrds = set(stopwords.words('english'))\n",
    "stopwrds = stopwrds.union(set(['mr','mrs','one','two','said']))\n",
    "stopwrds = stopwrds.union(set(['.',',',':',':',\"\\\"\",\"!\",\"@\",\"?\",\"*\",\"-\",\"\"]))\n",
    "# Instantiate a dictionary, and for every word in the file, \n",
    "# Add to the dictionary if it doesn't exist. If it does, increase the count.\n",
    "wordcount = {}\n",
    "# To eliminate duplicates, remember to split by punctuation, and use case demiliters.\n",
    "for word in a.lower().split():\n",
    "    word = word.replace(\".\",\"\")\n",
    "    word = word.replace(\",\",\"\")\n",
    "    word = word.replace(\":\",\"\")\n",
    "    word = word.replace(\"\\\"\",\"\")\n",
    "    word = word.replace(\"!\",\"\")\n",
    "    word = word.replace(\"â€œ\",\"\")\n",
    "    word = word.replace(\"â€˜\",\"\")\n",
    "    word = word.replace(\"*\",\"\")\n",
    "    if word not in stopwrds:\n",
    "        if word not in wordcount:\n",
    "            wordcount[word] = 1\n",
    "        else:\n",
    "            wordcount[word] += 1\n",
    "# Print most common word\n",
    "n_print = int(input(\"How many most common words to print: \"))\n",
    "print(\"\\nOK. The {} most common words are as follows\\n\".format(n_print))\n",
    "word_counter = collections.Counter(wordcount)\n",
    "for word, count in word_counter.most_common(n_print):\n",
    "#     if( word != \"\"):\n",
    "    print(word, \": \", count,end=\", \")\n",
    "    print(pos_tag([word]))\n",
    "    \n",
    "\n",
    "# Create a data frame of the most common words \n",
    "# Draw a bar chart\n",
    "lst = word_counter.most_common(n_print)\n",
    "df = pd.DataFrame(lst, columns = ['Word', 'Count'])\n",
    "df.plot.bar(x='Word',y='Count')"
   ]
  },
  {
   "cell_type": "markdown",
   "metadata": {},
   "source": [
    "## Extract URLS"
   ]
  },
  {
   "cell_type": "code",
   "execution_count": 58,
   "metadata": {},
   "outputs": [
    {
     "name": "stdout",
     "output_type": "stream",
     "text": [
      "https://naacp.org/we-are-done-dying-health-policy-demands/#PPE4NYC org\n"
     ]
    }
   ],
   "source": [
    "import re\n",
    "\n",
    "a = \"https://www.givedirectly.org/covid-19/us/, https://www.gofundme.com/f/fund-protective-equipment-for-covid19-heroes, https://www.cpmu.com/covid19, https://www.nokidhungry.org/coronavirus, https://www.feedingamerica.org/, http://www.livefreeusa.org/masks-for-the-people, https://naacp.org/we-are-done-dying-health-policy-demands/#PPE4NYC\"\n",
    "t = re.findall(\"(?P<url>https?://[^\\s]+)\", a)\n",
    "\n",
    "# for lnk in t:\n",
    "print(t[-1], t[-1].split(\"//\")[-1].split(\"/\")[0].split(\".\")[-1])\n",
    "# urlDomain(a)"
   ]
  },
  {
   "cell_type": "code",
   "execution_count": 59,
   "metadata": {},
   "outputs": [],
   "source": [
    "def urlDomain(urlList):\n",
    "    domain = []\n",
    "    for url in urlList.split(\",\"):\n",
    "        domain.append(url.split(\"//\")[-1].split(\"/\")[0].split(\".\")[-1])\n",
    "    return domain\n",
    "        \n",
    "def urlParse(text: str):\n",
    "    return (re.findall(\"(?P<url>https?://[^\\s]+)\", text))\n",
    "\n",
    "def urlCount(text: str):\n",
    "    return len(urlParse(text))"
   ]
  },
  {
   "cell_type": "code",
   "execution_count": 60,
   "metadata": {},
   "outputs": [
    {
     "name": "stderr",
     "output_type": "stream",
     "text": [
      "<ipython-input-60-c079040280ed>:1: SettingWithCopyWarning: \n",
      "A value is trying to be set on a copy of a slice from a DataFrame.\n",
      "Try using .loc[row_indexer,col_indexer] = value instead\n",
      "\n",
      "See the caveats in the documentation: https://pandas.pydata.org/pandas-docs/stable/user_guide/indexing.html#returning-a-view-versus-a-copy\n",
      "  dbData[\"linkCount\"]  = dbData.apply(lambda x: (urlCount(x.Text)), axis = 1)\n",
      "<ipython-input-60-c079040280ed>:2: SettingWithCopyWarning: \n",
      "A value is trying to be set on a copy of a slice from a DataFrame.\n",
      "Try using .loc[row_indexer,col_indexer] = value instead\n",
      "\n",
      "See the caveats in the documentation: https://pandas.pydata.org/pandas-docs/stable/user_guide/indexing.html#returning-a-view-versus-a-copy\n",
      "  dbData[\"link\"]  = dbData.apply(lambda x: (', '.join(urlParse(x.Text))), axis = 1)\n",
      "<ipython-input-60-c079040280ed>:3: SettingWithCopyWarning: \n",
      "A value is trying to be set on a copy of a slice from a DataFrame.\n",
      "Try using .loc[row_indexer,col_indexer] = value instead\n",
      "\n",
      "See the caveats in the documentation: https://pandas.pydata.org/pandas-docs/stable/user_guide/indexing.html#returning-a-view-versus-a-copy\n",
      "  dbData[\"linkDomain\"]  = dbData.apply(lambda x: (', '.join(urlDomain(x.link))), axis = 1)\n"
     ]
    }
   ],
   "source": [
    "dbData[\"linkCount\"]  = dbData.apply(lambda x: (urlCount(x.Text)), axis = 1)\n",
    "dbData[\"link\"]  = dbData.apply(lambda x: (', '.join(urlParse(x.Text))), axis = 1)\n",
    "dbData[\"linkDomain\"]  = dbData.apply(lambda x: (', '.join(urlDomain(x.link))), axis = 1)"
   ]
  },
  {
   "cell_type": "code",
   "execution_count": 61,
   "metadata": {},
   "outputs": [
    {
     "data": {
      "text/plain": [
       "0    857\n",
       "1     82\n",
       "2     17\n",
       "3      9\n",
       "6      2\n",
       "5      2\n",
       "4      2\n",
       "7      1\n",
       "Name: Url_Count, dtype: int64"
      ]
     },
     "execution_count": 61,
     "metadata": {},
     "output_type": "execute_result"
    }
   ],
   "source": [
    "dbData[\"Url_Count\"].value_counts()"
   ]
  },
  {
   "cell_type": "code",
   "execution_count": 62,
   "metadata": {},
   "outputs": [
    {
     "data": {
      "text/html": [
       "<div>\n",
       "<style scoped>\n",
       "    .dataframe tbody tr th:only-of-type {\n",
       "        vertical-align: middle;\n",
       "    }\n",
       "\n",
       "    .dataframe tbody tr th {\n",
       "        vertical-align: top;\n",
       "    }\n",
       "\n",
       "    .dataframe thead th {\n",
       "        text-align: right;\n",
       "    }\n",
       "</style>\n",
       "<table border=\"1\" class=\"dataframe\">\n",
       "  <thead>\n",
       "    <tr style=\"text-align: right;\">\n",
       "      <th></th>\n",
       "      <th>Url</th>\n",
       "      <th>Description</th>\n",
       "      <th>Text</th>\n",
       "      <th>Title</th>\n",
       "      <th>Progress</th>\n",
       "      <th>Url_Count</th>\n",
       "      <th>linkCount</th>\n",
       "      <th>link</th>\n",
       "      <th>linkDomain</th>\n",
       "    </tr>\n",
       "  </thead>\n",
       "  <tbody>\n",
       "    <tr>\n",
       "      <th>237</th>\n",
       "      <td>https://www.gofundme.com/f/Urgent-N95-Masks-PP...</td>\n",
       "      <td>\\n***FINAL SUMMARY IS BELOW!!!***.  With enorm...</td>\n",
       "      <td>***FINAL SUMMARY IS BELOW!!!***. With enormous...</td>\n",
       "      <td>Fundraiser by MengMeng Xu : Urgent-N95 Masks &amp;...</td>\n",
       "      <td>1.10781</td>\n",
       "      <td>7</td>\n",
       "      <td>7</td>\n",
       "      <td>https://www.givedirectly.org/covid-19/us/, htt...</td>\n",
       "      <td>org, com, com, org, org, org, org</td>\n",
       "    </tr>\n",
       "  </tbody>\n",
       "</table>\n",
       "</div>"
      ],
      "text/plain": [
       "                                                   Url  \\\n",
       "237  https://www.gofundme.com/f/Urgent-N95-Masks-PP...   \n",
       "\n",
       "                                           Description  \\\n",
       "237  \\n***FINAL SUMMARY IS BELOW!!!***.  With enorm...   \n",
       "\n",
       "                                                  Text  \\\n",
       "237  ***FINAL SUMMARY IS BELOW!!!***. With enormous...   \n",
       "\n",
       "                                                 Title  Progress  Url_Count  \\\n",
       "237  Fundraiser by MengMeng Xu : Urgent-N95 Masks &...   1.10781          7   \n",
       "\n",
       "     linkCount                                               link  \\\n",
       "237          7  https://www.givedirectly.org/covid-19/us/, htt...   \n",
       "\n",
       "                            linkDomain  \n",
       "237  org, com, com, org, org, org, org  "
      ]
     },
     "execution_count": 62,
     "metadata": {},
     "output_type": "execute_result"
    }
   ],
   "source": [
    "dbData[dbData[\"Url_Count\"] == 7]#.iloc[0].link"
   ]
  },
  {
   "cell_type": "code",
   "execution_count": null,
   "metadata": {},
   "outputs": [],
   "source": []
  }
 ],
 "metadata": {
  "kernelspec": {
   "display_name": "Python 3",
   "language": "python",
   "name": "python3"
  },
  "language_info": {
   "codemirror_mode": {
    "name": "ipython",
    "version": 3
   },
   "file_extension": ".py",
   "mimetype": "text/x-python",
   "name": "python",
   "nbconvert_exporter": "python",
   "pygments_lexer": "ipython3",
   "version": "3.8.3"
  }
 },
 "nbformat": 4,
 "nbformat_minor": 4
}
