{
 "cells": [
  {
   "cell_type": "code",
   "execution_count": null,
   "metadata": {},
   "outputs": [],
   "source": [
    "# !pip install seaborn"
   ]
  },
  {
   "cell_type": "code",
   "execution_count": null,
   "metadata": {},
   "outputs": [],
   "source": [
    "%matplotlib inline"
   ]
  },
  {
   "cell_type": "code",
   "execution_count": null,
   "metadata": {},
   "outputs": [],
   "source": [
    "import pandas as pd\n",
    "import numpy as np\n",
    "import matplotlib as plt\n",
    "from pymongo import MongoClient\n",
    "import seaborn as sns"
   ]
  },
  {
   "cell_type": "code",
   "execution_count": null,
   "metadata": {
    "scrolled": true
   },
   "outputs": [],
   "source": [
    "client = MongoClient('mongodb://localhost:27017')\n",
    "collection = client.GFM.Data_12_27_20\n",
    "dbData = pd.DataFrame(collection.find({\"Status\":\"Active\",\"Category\":\"Medical\"}))\n",
    "display(dbData.head())"
   ]
  },
  {
   "cell_type": "code",
   "execution_count": null,
   "metadata": {},
   "outputs": [],
   "source": [
    "# dbData.drop([\"_id\",\"Position\",\"Status\",\"CurrencyCode\",\"Duration\",\"ErrorMessage\",\"Organiser\"], axis = 1, inplace = True)\n",
    "len(dbData)"
   ]
  },
  {
   "cell_type": "code",
   "execution_count": null,
   "metadata": {},
   "outputs": [],
   "source": [
    "#DataError : goal = 0 means Amount_Raised = 0\n",
    "idx = (dbData.Goal == 0)\n",
    "dbData.loc[idx] = dbData.loc[idx].rename(columns={'Amount_Raised':'Goal','Goal':'Amount_Raised'})\n",
    "dbData[\"Progress\"] = dbData.Amount_Raised/dbData.Goal\n",
    "dbData.head()"
   ]
  },
  {
   "cell_type": "code",
   "execution_count": null,
   "metadata": {},
   "outputs": [],
   "source": [
    "dbData.dropna(subset=['Goal'], inplace = True)"
   ]
  },
  {
   "cell_type": "code",
   "execution_count": null,
   "metadata": {},
   "outputs": [],
   "source": [
    "display(dbData.Progress.hist())"
   ]
  },
  {
   "cell_type": "code",
   "execution_count": null,
   "metadata": {},
   "outputs": [],
   "source": [
    "x = dbData[dbData.Progress > 10]\n",
    "print(len(x))\n",
    "x[[\"Url\",\"Progress\"]]"
   ]
  },
  {
   "cell_type": "code",
   "execution_count": null,
   "metadata": {},
   "outputs": [],
   "source": []
  },
  {
   "cell_type": "code",
   "execution_count": null,
   "metadata": {},
   "outputs": [],
   "source": [
    "data = pd.read_csv(\"data/GFM_dataRevised.csv\", sep = \"\\t\")\n",
    "print(data.shape)\n",
    "data.head()"
   ]
  },
  {
   "cell_type": "markdown",
   "metadata": {},
   "source": [
    "Number of fundraiser's with amount_raised = goal\n",
    "\n",
    "\n",
    "(Check if amount raised = 0)"
   ]
  },
  {
   "cell_type": "code",
   "execution_count": null,
   "metadata": {},
   "outputs": [],
   "source": [
    "_ = data[data.Amount_Raised == data.Goal]\n",
    "print(len(_))"
   ]
  },
  {
   "cell_type": "code",
   "execution_count": null,
   "metadata": {},
   "outputs": [],
   "source": [
    "print(_.Url.iloc[7])\n",
    "print(_.Url.iloc[0])"
   ]
  },
  {
   "cell_type": "code",
   "execution_count": null,
   "metadata": {},
   "outputs": [],
   "source": [
    "headers = [\"Url\", \"Category\",\"Position\", \"Title\", \"Location\", \"Organiser\",\"Amount_Raised\", \"Goal\", \"Duration\", \"Text\", \"Image\"]"
   ]
  },
  {
   "cell_type": "code",
   "execution_count": null,
   "metadata": {},
   "outputs": [],
   "source": [
    "listInvalidCampaign = []\n",
    "lstScrapingError = []\n",
    "\n",
    "def scrape_url(url, tid = \"mainThread\"):\n",
    "    print(\"Scraping url %s\", url)\n",
    "        \n",
    "    page = requests.get(url)\n",
    "    soup = BeautifulSoup(page.text, 'lxml')\n",
    "    \n",
    "    temp_df = pd.DataFrame(columns = headers)\n",
    "    \n",
    "#     invalidCampaign = soup.find('div', attrs={'class': 'm-campaign-sidebar-notification m-well m-well--sand'})\n",
    "    \n",
    "#     if(invalidCampaign is not None):\n",
    "#         text_container =  soup.find('meta', attrs={'name': 'description'})\n",
    "#         print(text_container['content'])\n",
    "#         listInvalidCampaign.append(row_index)\n",
    "#         return \"Invalid Campaign\"\n",
    "    \n",
    "    try:\n",
    "        # Description\n",
    "        text_container =  soup.find('meta', attrs={'name': 'description'})\n",
    "        try:\n",
    "            all_text = text_container['content']\n",
    "        except:\n",
    "            all_text = np.nan\n",
    "\n",
    "        if(all_text is np.nan )or(all_text == \"We're sorry, but that campaign cannot be found. Please check the link URL and try again.\"):\n",
    "            print(tid+' ('+str(row_index)+') -> '+all_text)\n",
    "            listInvalidCampaign.append(row_index)\n",
    "            temp_df = pd.DataFrame(columns = headers)\n",
    "            return(temp_df)\n",
    "\n",
    "        # Title\n",
    "        try:\n",
    "            title = soup.find(\"title\").text\n",
    "        except:\n",
    "            title = np.nan\n",
    "\n",
    "        # Organiser & Location\n",
    "        try:\n",
    "            t = soup.find_all(\"div\",{\"class\":\"p-campaign-members\"})[0]\n",
    "            organiser = t.find_all(\"div\",{\"class\": \"m-person-info-name\"})[0].text.replace('\\xa0','')\n",
    "            location = \"\"\n",
    "            if(len(t.find_all(\"div\",{\"class\": \"text-small\"})) > 3):\n",
    "                location = t.find_all(\"div\",{\"class\": \"text-small\"})[2].text.replace('\\xa0','')\n",
    "            else:\n",
    "                location = t.find_all(\"div\",{\"class\": \"text-small\"})[1].text.replace('\\xa0','')\n",
    "        except:\n",
    "            organiser = np.nan\n",
    "            location = np.nan\n",
    "\n",
    "        # Amount Raised and Goal\n",
    "        try:\n",
    "            t = soup.find(\"div\",{\"class\":\"p-campaign-sidebar\"})\n",
    "            amount = t.find(\"div\",{\"class\": \"o-campaign-sidebar-progress-meter m-progress-meter\"})\n",
    "            amountRaised = amount.text.split()[0]\n",
    "            goal = amount.text.split()[-2]\n",
    "        except:\n",
    "            amountRaised = np.nan\n",
    "            goal = np.nan\n",
    "\n",
    "        # All Text\n",
    "        soup.find('div', {'class': \"p-campaign-description\"})\n",
    "        text = soup.find('div', {'class': \"o-campaign-story mt-three-halves\"}).text.replace('\\xa0','').replace('\\n','')\n",
    "        text\n",
    "\n",
    "        # Duration of Fundraising\n",
    "        try:\n",
    "            t = soup.find(\"div\",{\"class\": \"p-campaign-description\"})\n",
    "            startDate = ' '.join(t.find(\"li\",{\"class\": \"m-meta-list-item\"}).text.split()[1::])\n",
    "            startDate = (pd.to_datetime(startDate)).date()\n",
    "            duration = (pd.datetime.now().date() - startDate).days\n",
    "        except:\n",
    "            duration = np.nan\n",
    "\n",
    "        #Image\n",
    "        try:\n",
    "            img_container =  soup.find('meta', attrs={'property': 'og:image'})\n",
    "            image_url = img_container['content']\n",
    "\n",
    "            img_filename = \"data/images/\"+image_url.split(\"/\")[-1]\n",
    "\n",
    "            # Open the url image, set stream to True, this will return the stream content.\n",
    "            r = requests.get(image_url, stream = True)\n",
    "\n",
    "            # Check if the image was retrieved successfully\n",
    "            if r.status_code == 200:\n",
    "                # Set decode_content value to True, otherwise the downloaded image file's size will be zero.\n",
    "                r.raw.decode_content = True\n",
    "\n",
    "                # Open a local file with wb ( write binary ) permission.\n",
    "                with open(img_filename,'wb') as f:\n",
    "                    shutil.copyfileobj(r.raw, f)\n",
    "        except:\n",
    "            img_filename = np.nan\n",
    "\n",
    "    #     # FB likes and Shares    \n",
    "    #     try:\n",
    "    #         FB_shares_container = soup.find_all(\"strong\", {\"class\":\"js-share-count-text\"})\n",
    "    #         FB_shares = FB_shares_container[0].text.splitlines()\n",
    "    #         FB_shares = FB_shares[1].replace(\" \", \"\").replace(\"\\xa0\", \"\")\n",
    "    #     except:\n",
    "    #         FB_shares = np.nan\n",
    "\n",
    "    #     try:\n",
    "    #         hearts_container = soup.find_all(\"div\", {\"class\":\"campaign-sp campaign-sp--heart fave-num\"})\n",
    "    #         hearts = hearts_container[0].text\n",
    "    #     except:\n",
    "    #         hearts = np.nan\n",
    "\n",
    "        temp_row = np.array([[url, category, position, title, location, organiser, amountRaised, goal, duration, text, img_filename]])\n",
    "        temp_df = pd.DataFrame(temp_row, columns = headers)\n",
    "\n",
    "        return(temp_df)\n",
    "    \n",
    "    except:\n",
    "        lstScrapingError.append(row_index)\n",
    "        return tid+' ('+str(row_index)+') -> '+\"Scraping Error\""
   ]
  },
  {
   "cell_type": "code",
   "execution_count": null,
   "metadata": {},
   "outputs": [],
   "source": [
    "scrape_url(_.Url.iloc[7])"
   ]
  },
  {
   "cell_type": "code",
   "execution_count": null,
   "metadata": {},
   "outputs": [],
   "source": []
  }
 ],
 "metadata": {
  "kernelspec": {
   "display_name": "Python 3",
   "language": "python",
   "name": "python3"
  },
  "language_info": {
   "codemirror_mode": {
    "name": "ipython",
    "version": 3
   },
   "file_extension": ".py",
   "mimetype": "text/x-python",
   "name": "python",
   "nbconvert_exporter": "python",
   "pygments_lexer": "ipython3",
   "version": "3.8.3"
  }
 },
 "nbformat": 4,
 "nbformat_minor": 4
}
